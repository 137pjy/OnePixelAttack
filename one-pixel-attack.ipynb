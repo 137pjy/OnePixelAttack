{
 "cells": [
  {
   "cell_type": "markdown",
   "metadata": {},
   "source": [
    "# One Pixel Attack Tutorial"
   ]
  },
  {
   "cell_type": "markdown",
   "metadata": {},
   "source": [
    "![](images/horse.png \"I'm a normal horse, nothing suspicious here\") ![](images/horse-attack.png \"I'm an attack horse, grr\")"
   ]
  },
  {
   "cell_type": "markdown",
   "metadata": {},
   "source": [
    "### Imports"
   ]
  },
  {
   "cell_type": "code",
   "execution_count": null,
   "metadata": {},
   "outputs": [],
   "source": [
    "# Python Libraries\n",
    "%matplotlib inline\n",
    "import numpy as np\n",
    "import pandas as pd\n",
    "import matplotlib\n",
    "from matplotlib import pyplot as plt\n",
    "from keras.datasets import cifar10\n",
    "from scipy.optimize import differential_evolution\n",
    "from scipy.stats import truncnorm\n",
    "from IPython.display import clear_output"
   ]
  },
  {
   "cell_type": "code",
   "execution_count": 2,
   "metadata": {
    "collapsed": true
   },
   "outputs": [],
   "source": [
    "# Custom Networks\n",
    "from networks.lecun_net import LecunNet\n",
    "from networks.pure_cnn import PureCnn\n",
    "from networks.network_in_network import NetworkInNetwork\n",
    "from networks.resnet import ResNet\n",
    "from networks.densenet import DenseNet\n",
    "from networks.wide_resnet import WideResNet\n",
    "\n",
    "from helper import get_class_names, plot_image"
   ]
  },
  {
   "cell_type": "code",
   "execution_count": 3,
   "metadata": {
    "collapsed": true
   },
   "outputs": [],
   "source": [
    "matplotlib.style.use('ggplot')"
   ]
  },
  {
   "cell_type": "markdown",
   "metadata": {},
   "source": [
    "### Load Data"
   ]
  },
  {
   "cell_type": "markdown",
   "metadata": {},
   "source": [
    "Load the Cifar10 dataset and all necessary metadata."
   ]
  },
  {
   "cell_type": "code",
   "execution_count": 4,
   "metadata": {
    "collapsed": true
   },
   "outputs": [],
   "source": [
    "(x_train, y_train), (x_test, y_test) = cifar10.load_data()"
   ]
  },
  {
   "cell_type": "code",
   "execution_count": 5,
   "metadata": {},
   "outputs": [
    {
     "name": "stdout",
     "output_type": "stream",
     "text": [
      "Decoding file: data/batches.meta\n",
      "['airplane', 'automobile', 'bird', 'cat', 'deer', 'dog', 'frog', 'horse', 'ship', 'truck']\n"
     ]
    }
   ],
   "source": [
    "# Obtain the names of the 10 classes in cifar10\n",
    "class_names = get_class_names()\n",
    "print(class_names)"
   ]
  },
  {
   "cell_type": "markdown",
   "metadata": {},
   "source": [
    "### Load Models"
   ]
  },
  {
   "cell_type": "markdown",
   "metadata": {},
   "source": [
    "Load various pretrained Neural Network models in the `networks/models` directory. There are more networks available, but must be trained before testing them here.\n",
    "\n",
    "Keras will need to also download the Cifar10 dataset if it is not cached locally already."
   ]
  },
  {
   "cell_type": "code",
   "execution_count": 6,
   "metadata": {},
   "outputs": [
    {
     "name": "stdout",
     "output_type": "stream",
     "text": [
      "Successfully loaded lecun_net\n",
      "Successfully loaded pure_cnn\n",
      "Successfully loaded net_in_net\n",
      "Successfully loaded resnet\n",
      "Successfully loaded densenet\n",
      "Successfully loaded wide_resnet\n"
     ]
    }
   ],
   "source": [
    "lecun_net = LecunNet()\n",
    "pure_cnn = PureCnn()\n",
    "net_in_net = NetworkInNetwork()\n",
    "resnet = ResNet()\n",
    "densenet = DenseNet()\n",
    "wide_resnet = WideResNet()\n",
    "\n",
    "models = [lecun_net, pure_cnn, net_in_net, resnet, densenet, wide_resnet]"
   ]
  },
  {
   "cell_type": "markdown",
   "metadata": {},
   "source": [
    "### Calculate Model Accuracies"
   ]
  },
  {
   "cell_type": "code",
   "execution_count": 7,
   "metadata": {
    "collapsed": true
   },
   "outputs": [],
   "source": [
    "network_stats = pd.DataFrame(columns=['name', 'accuracy', 'param_count'], data=[\n",
    "    [model.name, model.acc, model.param_count]\n",
    "    for model in models])"
   ]
  },
  {
   "cell_type": "code",
   "execution_count": 8,
   "metadata": {},
   "outputs": [
    {
     "data": {
      "text/html": [
       "<div>\n",
       "<style>\n",
       "    .dataframe thead tr:only-child th {\n",
       "        text-align: right;\n",
       "    }\n",
       "\n",
       "    .dataframe thead th {\n",
       "        text-align: left;\n",
       "    }\n",
       "\n",
       "    .dataframe tbody tr th {\n",
       "        vertical-align: top;\n",
       "    }\n",
       "</style>\n",
       "<table border=\"1\" class=\"dataframe\">\n",
       "  <thead>\n",
       "    <tr style=\"text-align: right;\">\n",
       "      <th></th>\n",
       "      <th>name</th>\n",
       "      <th>accuracy</th>\n",
       "      <th>param_count</th>\n",
       "    </tr>\n",
       "  </thead>\n",
       "  <tbody>\n",
       "    <tr>\n",
       "      <th>0</th>\n",
       "      <td>lecun_net</td>\n",
       "      <td>0.7488</td>\n",
       "      <td>62006</td>\n",
       "    </tr>\n",
       "    <tr>\n",
       "      <th>1</th>\n",
       "      <td>pure_cnn</td>\n",
       "      <td>0.8877</td>\n",
       "      <td>1369738</td>\n",
       "    </tr>\n",
       "    <tr>\n",
       "      <th>2</th>\n",
       "      <td>net_in_net</td>\n",
       "      <td>0.9074</td>\n",
       "      <td>972658</td>\n",
       "    </tr>\n",
       "    <tr>\n",
       "      <th>3</th>\n",
       "      <td>resnet</td>\n",
       "      <td>0.9231</td>\n",
       "      <td>470218</td>\n",
       "    </tr>\n",
       "    <tr>\n",
       "      <th>4</th>\n",
       "      <td>densenet</td>\n",
       "      <td>0.9467</td>\n",
       "      <td>850606</td>\n",
       "    </tr>\n",
       "    <tr>\n",
       "      <th>5</th>\n",
       "      <td>wide_resnet</td>\n",
       "      <td>0.9534</td>\n",
       "      <td>11318026</td>\n",
       "    </tr>\n",
       "  </tbody>\n",
       "</table>\n",
       "</div>"
      ],
      "text/plain": [
       "          name  accuracy  param_count\n",
       "0    lecun_net    0.7488        62006\n",
       "1     pure_cnn    0.8877      1369738\n",
       "2   net_in_net    0.9074       972658\n",
       "3       resnet    0.9231       470218\n",
       "4     densenet    0.9467       850606\n",
       "5  wide_resnet    0.9534     11318026"
      ]
     },
     "execution_count": 8,
     "metadata": {},
     "output_type": "execute_result"
    }
   ],
   "source": [
    "network_stats"
   ]
  },
  {
   "cell_type": "markdown",
   "metadata": {},
   "source": [
    "### Image Perturbation"
   ]
  },
  {
   "cell_type": "code",
   "execution_count": 9,
   "metadata": {
    "collapsed": true
   },
   "outputs": [],
   "source": [
    "def perturb_image(x, img):\n",
    "    img = np.copy(img)\n",
    "    pixels = np.split(x.astype(int), len(x) // 5)\n",
    "    for x in pixels:\n",
    "        x_pos, y_pos, rgb = *x[:2], x[2:]\n",
    "        img[x_pos][y_pos] = rgb\n",
    "    return img"
   ]
  },
  {
   "cell_type": "code",
   "execution_count": 10,
   "metadata": {
    "collapsed": true
   },
   "outputs": [],
   "source": [
    "def predict_untargeted(x, *args):\n",
    "    img, correct_class, model = args\n",
    "    img_perturbed = perturb_image(x, img)\n",
    "    prediction = model.predict(img_perturbed)\n",
    "    return prediction[correct_class]"
   ]
  },
  {
   "cell_type": "code",
   "execution_count": 11,
   "metadata": {
    "collapsed": true
   },
   "outputs": [],
   "source": [
    "def predict_targeted(x, *args):\n",
    "    img, target_class, model = args\n",
    "    img_perturbed = perturb_image(x, img)\n",
    "    prediction = model.predict(img_perturbed)\n",
    "    return 1 - prediction[target_class]"
   ]
  },
  {
   "cell_type": "markdown",
   "metadata": {},
   "source": [
    "### Untargeted Attack"
   ]
  },
  {
   "cell_type": "markdown",
   "metadata": {},
   "source": [
    "The objective of an untargeted attack is to cause a model to misclassify an image. This means we want to minimize the probability of the correct classification category and maximize the sum of the probabilities of all other categories."
   ]
  },
  {
   "cell_type": "code",
   "execution_count": 12,
   "metadata": {
    "collapsed": true
   },
   "outputs": [],
   "source": [
    "def attack_untargeted_iteration(img, model, pixel_count=1, iterations=30,\n",
    "                                population=100, mutation=0.5, recombination=0.7, \n",
    "                                stop_threshold=-0.01, callback=None):\n",
    "    print('Attacking image', img)\n",
    "    \n",
    "    args = x_test[img], y_test[img], model\n",
    "    bounds = [(0,32), (0,32), (0,256), (0,256), (0,256)] * pixel_count\n",
    "    attack = predict_untargeted\n",
    "\n",
    "    cb = None if callback == None else lambda x,convergence: callback(x, convergence, args)\n",
    "    disp = callback == None\n",
    "    \n",
    "    res = differential_evolution(attack, bounds, args=args, maxiter=iterations, popsize=population, mutation=0.5, recombination=1, atol=stop_threshold, disp=disp, callback=cb)\n",
    "\n",
    "    attack_image = perturb_image(res.x, x_test[img])\n",
    "    predicted_probs = model.predict(attack_image)\n",
    "    predicted_class = np.argmax(predicted_probs)\n",
    "    actual_class = y_test[img][0]\n",
    "    success = predicted_class != actual_class\n",
    "\n",
    "    plot_image(attack_image, actual_class, class_names, predicted_class)\n",
    "\n",
    "    return [img, actual_class, predicted_class, success, predicted_probs, attack_image]"
   ]
  },
  {
   "cell_type": "code",
   "execution_count": 13,
   "metadata": {
    "collapsed": true
   },
   "outputs": [],
   "source": [
    "def untargeted_callback(x, convergence, args):\n",
    "    img, correct_class, model = args\n",
    "    correct_class = correct_class[0]\n",
    "    img_perturbed = perturb_image(x, img)\n",
    "    confidence = model.predict(img_perturbed)\n",
    "    prediction = np.argmax(confidence)\n",
    "    print('Confidence:', confidence[correct_class])\n",
    "    if (prediction != correct_class):\n",
    "        return True # Do it this way because returning it directly will prevent early halting"
   ]
  },
  {
   "cell_type": "code",
   "execution_count": 15,
   "metadata": {
    "scrolled": true
   },
   "outputs": [
    {
     "name": "stdout",
     "output_type": "stream",
     "text": [
      "Attacking image 99\n",
      "Confidence: 0.9932366\n",
      "Confidence: 0.9932366\n",
      "Confidence: 0.95751077\n",
      "Confidence: 0.94805044\n",
      "Confidence: 0.9150485\n",
      "Confidence: 0.49535528\n"
     ]
    },
    {
     "data": {
      "image/png": "[encoded data removed]",
      "text/plain": [
       "<matplotlib.figure.Figure at 0x7f92e91c27b8>"
      ]
     },
     "metadata": {},
     "output_type": "display_data"
    }
   ],
   "source": [
    "_ = attack_untargeted_iteration(99, wide_resnet, pixel_count=2, callback=untargeted_callback)"
   ]
  },
  {
   "cell_type": "code",
   "execution_count": null,
   "metadata": {
    "collapsed": true
   },
   "outputs": [],
   "source": [
    "# def attack_iteration(img, model, target=None, pixel_count=1, iterations=30,\n",
    "#                                 population=100, mutation=0.5, recombination=0.7, \n",
    "#                                 stop_threshold=-0.01, callback=None):\n",
    "#     info = 'Attacking image ' + str(img)\n",
    "#     info += ' with target ', target, class_names[target] if target else ''\n",
    "#     print(info)\n",
    "    \n",
    "#     attack = predict_targeted if target else predict_untargeted\n",
    "#     args = x_test[img], target, model if target else x_test[img], y_test[img], model\n",
    "#     bounds = [(0,32), (0,32), (0,256), (0,256), (0,256)] * pixel_count\n",
    "    \n",
    "#     cb = None if callback == None else lambda x,convergence: callback(x, convergence, args)\n",
    "#     disp = callback == None\n",
    "    \n",
    "#     res = differential_evolution(attack, bounds, args=args, maxiter=iterations, popsize=population, mutation=0.5, recombination=1, atol=stop_threshold, disp=disp, callback=cb)\n",
    "\n",
    "#     attack_image = perturb_image(res.x, x_test[img])\n",
    "#     predicted_probs = model.predict(attack_image)\n",
    "#     predicted_class = np.argmax(predicted_probs)\n",
    "#     actual_class = y_test[img][0]\n",
    "#     success = predicted_class != actual_class\n",
    "\n",
    "#     plot_image(attack_image, actual_class, class_names, predicted_class)\n",
    "\n",
    "#     return [img, actual_class, predicted_class, success, predicted_probs, attack_image]"
   ]
  },
  {
   "cell_type": "code",
   "execution_count": null,
   "metadata": {
    "collapsed": true
   },
   "outputs": [],
   "source": [
    "def attack_untargeted(model, pixel_count=1, sample_count=100, iterations=30,\n",
    "                      population=100, mutation=0.5, recombination=1, \n",
    "                      stop_threshold=-0.01, callback=untargeted_callback):\n",
    "    print('Targeting model', model.name)\n",
    "    \n",
    "    samples = np.random.choice(len(x_test), sample_count)\n",
    "    \n",
    "    results = []\n",
    "    for i,img in enumerate(samples):\n",
    "        print('Sample', i)\n",
    "        result = attack_untargeted_iteration(\n",
    "            img, model, pixel_count, iterations,\n",
    "            population, mutation, recombination, \n",
    "            stop_threshold, callback)\n",
    "        results.append(result)\n",
    "        print()\n",
    "    \n",
    "    return pd.DataFrame(\n",
    "        data=results,\n",
    "        columns=['image_index', 'true_class', 'predicted_class', 'success', 'predicted_probs', 'attack_image']\n",
    "    )"
   ]
  },
  {
   "cell_type": "code",
   "execution_count": null,
   "metadata": {
    "scrolled": true
   },
   "outputs": [],
   "source": [
    "untargeted_results = attack_untargeted(resnet)"
   ]
  },
  {
   "cell_type": "code",
   "execution_count": null,
   "metadata": {},
   "outputs": [],
   "source": [
    "untargeted_results"
   ]
  },
  {
   "cell_type": "markdown",
   "metadata": {},
   "source": [
    "### Targeted Attack"
   ]
  },
  {
   "cell_type": "code",
   "execution_count": 16,
   "metadata": {
    "collapsed": true
   },
   "outputs": [],
   "source": [
    "def attack_targeted_iteration(img, model, target, pixel_count=1, iterations=30,\n",
    "                              population=100, mutation=0.5, recombination=0.7, \n",
    "                              stop_threshold=-0.01, callback=None):\n",
    "    print('Attacking image', img, 'with target', target, class_names[target])\n",
    "    \n",
    "    args = x_test[img], target, model\n",
    "    bounds = [(0,32), (0,32), (0,256), (0,256), (0,256)] * pixel_count\n",
    "    attack = predict_targeted\n",
    "\n",
    "    cb = None if callback == None else lambda x,convergence: callback(x, convergence, args)\n",
    "    disp = callback == None\n",
    "    \n",
    "    res = differential_evolution(attack, bounds, args=args, maxiter=iterations, popsize=population, mutation=0.5, recombination=1, atol=stop_threshold, disp=disp, callback=cb)\n",
    "\n",
    "    attack_image = perturb_image(res.x, x_test[img])\n",
    "    predicted_probs = model.predict(attack_image)\n",
    "    predicted_class = np.argmax(predicted_probs)\n",
    "    actual_class = y_test[img][0]\n",
    "    success = predicted_class == target\n",
    "\n",
    "    plot_image(attack_image, actual_class, class_names, predicted_class)\n",
    "\n",
    "    return [img, actual_class, predicted_class, success, predicted_probs, attack_image]"
   ]
  },
  {
   "cell_type": "code",
   "execution_count": 22,
   "metadata": {
    "collapsed": true
   },
   "outputs": [],
   "source": [
    "def targeted_callback(x, convergence, args):\n",
    "    img, target, model = args\n",
    "    img_perturbed = perturb_image(x, img)\n",
    "    confidence = model.predict(img_perturbed)\n",
    "    prediction = np.argmax(confidence)\n",
    "    print('Confidence:', confidence[target])\n",
    "    if (prediction == target):\n",
    "        return True # Do it this way because returning it directly will prevent early halting"
   ]
  },
  {
   "cell_type": "code",
   "execution_count": 23,
   "metadata": {},
   "outputs": [
    {
     "name": "stdout",
     "output_type": "stream",
     "text": [
      "Attacking image 99 with target 5 dog\n",
      "Confidence: 0.0026761065\n",
      "Confidence: 0.20252232\n",
      "Confidence: 0.22827211\n",
      "Confidence: 0.87678444\n"
     ]
    },
    {
     "data": {
      "image/png": "[encoded data removed]",
      "text/plain": [
       "<matplotlib.figure.Figure at 0x7f92d42cf8d0>"
      ]
     },
     "metadata": {},
     "output_type": "display_data"
    }
   ],
   "source": [
    "_ = attack_targeted_iteration(99, wide_resnet, 5, pixel_count=2, callback=targeted_callback)"
   ]
  },
  {
   "cell_type": "code",
   "execution_count": 28,
   "metadata": {
    "collapsed": true
   },
   "outputs": [],
   "source": [
    "def attack_targeted(model, pixel_count=1, sample_count=100, iterations=30,\n",
    "                      population=10, mutation=0.5, recombination=1, \n",
    "                      stop_threshold=-0.01, callback=targeted_callback):\n",
    "    samples = np.random.choice(len(x_test), sample_count)\n",
    "    \n",
    "    results = []\n",
    "    for i,img in enumerate(samples):\n",
    "        print('Sample', i)\n",
    "        for target in range(10):\n",
    "            if target == y_test[img]:\n",
    "                continue\n",
    "            result = attack_targeted_iteration(\n",
    "                img, model, target, pixel_count, iterations,\n",
    "                population, mutation, recombination, \n",
    "                stop_threshold, callback)\n",
    "            results.append(result)\n",
    "            print()\n",
    "            \n",
    "    return pd.DataFrame(\n",
    "        data=results,\n",
    "        columns=['image_index', 'true_class', 'predicted_class', 'success', 'predicted_probs', 'attack_image']\n",
    "    )"
   ]
  },
  {
   "cell_type": "code",
   "execution_count": 29,
   "metadata": {},
   "outputs": [
    {
     "name": "stdout",
     "output_type": "stream",
     "text": [
      "Sample 0\n",
      "Attacking image 3297 with target 0 airplane\n",
      "Confidence: 0.00030981805\n",
      "Confidence: 0.00030981805\n",
      "Confidence: 0.00030981805\n",
      "Confidence: 0.00039476992\n",
      "Confidence: 0.00039476992\n",
      "Confidence: 0.0005574349\n",
      "Confidence: 0.0005753273\n",
      "Confidence: 0.0022128075\n",
      "Confidence: 0.004434155\n",
      "Confidence: 0.0056852084\n",
      "Confidence: 0.0059388955\n",
      "Confidence: 0.0059388955\n",
      "Confidence: 0.006191492\n",
      "Confidence: 0.007434649\n",
      "Confidence: 0.007990558\n",
      "Confidence: 0.007997345\n",
      "Confidence: 0.007997345\n",
      "Confidence: 0.007997345\n",
      "Confidence: 0.007997345\n",
      "Confidence: 0.008075765\n",
      "Confidence: 0.008326848\n",
      "Confidence: 0.008326848\n",
      "Confidence: 0.008326848\n",
      "Confidence: 0.008326848\n",
      "Confidence: 0.008326848\n",
      "Confidence: 0.008326848\n",
      "Confidence: 0.008326848\n",
      "Confidence: 0.008326848\n",
      "Confidence: 0.008326848\n",
      "Confidence: 0.008326848\n"
     ]
    },
    {
     "data": {
      "image/png": "[encoded data removed]",
      "text/plain": [
       "<matplotlib.figure.Figure at 0x7f92d4276da0>"
      ]
     },
     "metadata": {},
     "output_type": "display_data"
    },
    {
     "name": "stdout",
     "output_type": "stream",
     "text": [
      "\n",
      "Attacking image 3297 with target 1 automobile\n",
      "Confidence: 0.002136918\n",
      "Confidence: 0.002136918\n",
      "Confidence: 0.002136918\n",
      "Confidence: 0.002563536\n",
      "Confidence: 0.0029901536\n",
      "Confidence: 0.0031027335\n",
      "Confidence: 0.0031174864\n",
      "Confidence: 0.0034438006\n",
      "Confidence: 0.003455465\n",
      "Confidence: 0.003456479\n",
      "Confidence: 0.0034574706\n",
      "Confidence: 0.0034591036\n",
      "Confidence: 0.003459241\n",
      "Confidence: 0.003459241\n",
      "Confidence: 0.003459241\n",
      "Confidence: 0.003459313\n",
      "Confidence: 0.003459313\n",
      "Confidence: 0.003459313\n"
     ]
    },
    {
     "name": "stderr",
     "output_type": "stream",
     "text": [
      "/home/hyper/Documents/anaconda3/lib/python3.6/site-packages/scipy/optimize/_differentialevolution.py:533: RuntimeWarning: divide by zero encountered in double_scalars\n",
      "  convergence=self.tol / convergence) is True):\n"
     ]
    },
    {
     "name": "stdout",
     "output_type": "stream",
     "text": [
      "Confidence: 0.003459313\n",
      "Confidence: 0.003459313\n",
      "Confidence: 0.003459313\n",
      "Confidence: 0.003459313\n",
      "Confidence: 0.003459313\n",
      "Confidence: 0.003459313\n",
      "Confidence: 0.003459313\n",
      "Confidence: 0.003459313\n",
      "Confidence: 0.003459313\n",
      "Confidence: 0.003459313\n",
      "Confidence: 0.003459313\n",
      "Confidence: 0.003459313\n"
     ]
    },
    {
     "data": {
      "image/png": "[encoded data removed]",
      "text/plain": [
       "<matplotlib.figure.Figure at 0x7f92d42b4160>"
      ]
     },
     "metadata": {},
     "output_type": "display_data"
    },
    {
     "name": "stdout",
     "output_type": "stream",
     "text": [
      "\n",
      "Attacking image 3297 with target 2 bird\n",
      "Confidence: 0.0009113776\n",
      "Confidence: 0.0009113776\n",
      "Confidence: 0.0009159393\n",
      "Confidence: 0.0011878983\n",
      "Confidence: 0.0012988477\n",
      "Confidence: 0.0012988477\n",
      "Confidence: 0.0012988477\n",
      "Confidence: 0.0013013493\n",
      "Confidence: 0.0013028418\n",
      "Confidence: 0.001302915\n",
      "Confidence: 0.001302915\n",
      "Confidence: 0.001302915\n",
      "Confidence: 0.001302915\n",
      "Confidence: 0.001302915\n",
      "Confidence: 0.001302915\n",
      "Confidence: 0.001302915\n",
      "Confidence: 0.001302915\n",
      "Confidence: 0.001302915\n",
      "Confidence: 0.001302915\n",
      "Confidence: 0.001302915\n",
      "Confidence: 0.001302915\n",
      "Confidence: 0.001302915\n",
      "Confidence: 0.001302915\n",
      "Confidence: 0.001302915\n",
      "Confidence: 0.001302915\n",
      "Confidence: 0.001302915\n",
      "Confidence: 0.001302915\n",
      "Confidence: 0.001302915\n",
      "Confidence: 0.001302915\n",
      "Confidence: 0.001302915\n"
     ]
    },
    {
     "data": {
      "image/png": "[encoded data removed]",
      "text/plain": [
       "<matplotlib.figure.Figure at 0x7f92d41c3668>"
      ]
     },
     "metadata": {},
     "output_type": "display_data"
    },
    {
     "name": "stdout",
     "output_type": "stream",
     "text": [
      "\n",
      "Attacking image 3297 with target 3 cat\n",
      "Confidence: 0.4482249\n",
      "Confidence: 0.50755817\n"
     ]
    },
    {
     "data": {
      "image/png": "[encoded data removed]",
      "text/plain": [
       "<matplotlib.figure.Figure at 0x7f92d41ef3c8>"
      ]
     },
     "metadata": {},
     "output_type": "display_data"
    },
    {
     "name": "stdout",
     "output_type": "stream",
     "text": [
      "\n",
      "Attacking image 3297 with target 5 dog\n",
      "Confidence: 0.9816688\n"
     ]
    },
    {
     "data": {
      "image/png": "[encoded data removed]",
      "text/plain": [
       "<matplotlib.figure.Figure at 0x7f92d41bd160>"
      ]
     },
     "metadata": {},
     "output_type": "display_data"
    },
    {
     "name": "stdout",
     "output_type": "stream",
     "text": [
      "\n",
      "Attacking image 3297 with target 6 frog\n",
      "Confidence: 0.08025762\n",
      "Confidence: 0.08025762\n",
      "Confidence: 0.0941122\n",
      "Confidence: 0.0941122\n",
      "Confidence: 0.0941122\n",
      "Confidence: 0.1401928\n",
      "Confidence: 0.1401928\n",
      "Confidence: 0.1401928\n",
      "Confidence: 0.14319046\n",
      "Confidence: 0.14525524\n",
      "Confidence: 0.14525524\n",
      "Confidence: 0.14609945\n",
      "Confidence: 0.14685218\n",
      "Confidence: 0.1474388\n",
      "Confidence: 0.14769194\n",
      "Confidence: 0.14769194\n",
      "Confidence: 0.14769194\n",
      "Confidence: 0.14769194\n",
      "Confidence: 0.14769194\n",
      "Confidence: 0.14769194\n",
      "Confidence: 0.14769194\n",
      "Confidence: 0.14769194\n",
      "Confidence: 0.14769194\n",
      "Confidence: 0.14769194\n",
      "Confidence: 0.14769194\n",
      "Confidence: 0.14769194\n",
      "Confidence: 0.14769194\n",
      "Confidence: 0.14769194\n",
      "Confidence: 0.14769194\n",
      "Confidence: 0.14769194\n"
     ]
    },
    {
     "data": {
      "image/png": "[encoded data removed]",
      "text/plain": [
       "<matplotlib.figure.Figure at 0x7f92d4174f60>"
      ]
     },
     "metadata": {},
     "output_type": "display_data"
    },
    {
     "name": "stdout",
     "output_type": "stream",
     "text": [
      "\n",
      "Attacking image 3297 with target 7 horse\n",
      "Confidence: 0.033488158\n",
      "Confidence: 0.042102676\n",
      "Confidence: 0.09185223\n",
      "Confidence: 0.09185223\n",
      "Confidence: 0.092719585\n",
      "Confidence: 0.092719585\n",
      "Confidence: 0.092719585\n",
      "Confidence: 0.092719585\n",
      "Confidence: 0.09456644\n",
      "Confidence: 0.09499813\n",
      "Confidence: 0.09647471\n",
      "Confidence: 0.09647471\n",
      "Confidence: 0.09679911\n",
      "Confidence: 0.09679911\n",
      "Confidence: 0.09682592\n",
      "Confidence: 0.09682781\n",
      "Confidence: 0.09682781\n",
      "Confidence: 0.09682781\n",
      "Confidence: 0.09682781\n",
      "Confidence: 0.09682781\n",
      "Confidence: 0.09682781\n",
      "Confidence: 0.09682781\n",
      "Confidence: 0.09682781\n",
      "Confidence: 0.09682781\n",
      "Confidence: 0.09682781\n",
      "Confidence: 0.09682781\n",
      "Confidence: 0.09682781\n",
      "Confidence: 0.09682781\n",
      "Confidence: 0.09682781\n",
      "Confidence: 0.09682781\n"
     ]
    },
    {
     "data": {
      "image/png": "[encoded data removed]",
      "text/plain": [
       "<matplotlib.figure.Figure at 0x7f92d40c1860>"
      ]
     },
     "metadata": {},
     "output_type": "display_data"
    },
    {
     "name": "stdout",
     "output_type": "stream",
     "text": [
      "\n",
      "Attacking image 3297 with target 8 ship\n",
      "Confidence: 0.0009564901\n",
      "Confidence: 0.0009564901\n",
      "Confidence: 0.0010501115\n",
      "Confidence: 0.0012912536\n",
      "Confidence: 0.0013428708\n",
      "Confidence: 0.001345041\n",
      "Confidence: 0.0013469023\n",
      "Confidence: 0.0013508741\n",
      "Confidence: 0.0013509345\n",
      "Confidence: 0.0013509345\n",
      "Confidence: 0.0013509345\n",
      "Confidence: 0.0013509345\n",
      "Confidence: 0.0013509345\n",
      "Confidence: 0.0013509345\n",
      "Confidence: 0.0013509345\n",
      "Confidence: 0.0013509345\n",
      "Confidence: 0.0013509345\n",
      "Confidence: 0.0013509345\n",
      "Confidence: 0.0013509345\n",
      "Confidence: 0.0013509345\n",
      "Confidence: 0.0013509345\n",
      "Confidence: 0.0013509345\n",
      "Confidence: 0.0013509345\n",
      "Confidence: 0.0013509345\n",
      "Confidence: 0.0013509345\n"
     ]
    },
    {
     "ename": "KeyboardInterrupt",
     "evalue": "",
     "output_type": "error",
     "traceback": [
      "\u001b[0;31m---------------------------------------------------------------------------\u001b[0m",
      "\u001b[0;31mKeyboardInterrupt\u001b[0m                         Traceback (most recent call last)",
      "\u001b[0;32m<ipython-input-29-f7c762e8ccf8>\u001b[0m in \u001b[0;36m<module>\u001b[0;34m()\u001b[0m\n\u001b[0;32m----> 1\u001b[0;31m \u001b[0mtargeted_results\u001b[0m \u001b[0;34m=\u001b[0m \u001b[0mattack_targeted\u001b[0m\u001b[0;34m(\u001b[0m\u001b[0mresnet\u001b[0m\u001b[0;34m)\u001b[0m\u001b[0;34m\u001b[0m\u001b[0m\n\u001b[0m",
      "\u001b[0;32m<ipython-input-28-b55585920a3f>\u001b[0m in \u001b[0;36mattack_targeted\u001b[0;34m(model, pixel_count, sample_count, iterations, population, mutation, recombination, stop_threshold, callback)\u001b[0m\n\u001b[1;32m     13\u001b[0m                 \u001b[0mimg\u001b[0m\u001b[0;34m,\u001b[0m \u001b[0mmodel\u001b[0m\u001b[0;34m,\u001b[0m \u001b[0mtarget\u001b[0m\u001b[0;34m,\u001b[0m \u001b[0mpixel_count\u001b[0m\u001b[0;34m,\u001b[0m \u001b[0miterations\u001b[0m\u001b[0;34m,\u001b[0m\u001b[0;34m\u001b[0m\u001b[0m\n\u001b[1;32m     14\u001b[0m                 \u001b[0mpopulation\u001b[0m\u001b[0;34m,\u001b[0m \u001b[0mmutation\u001b[0m\u001b[0;34m,\u001b[0m \u001b[0mrecombination\u001b[0m\u001b[0;34m,\u001b[0m\u001b[0;34m\u001b[0m\u001b[0m\n\u001b[0;32m---> 15\u001b[0;31m                 stop_threshold, callback)\n\u001b[0m\u001b[1;32m     16\u001b[0m             \u001b[0mresults\u001b[0m\u001b[0;34m.\u001b[0m\u001b[0mappend\u001b[0m\u001b[0;34m(\u001b[0m\u001b[0mresult\u001b[0m\u001b[0;34m)\u001b[0m\u001b[0;34m\u001b[0m\u001b[0m\n\u001b[1;32m     17\u001b[0m             \u001b[0mprint\u001b[0m\u001b[0;34m(\u001b[0m\u001b[0;34m)\u001b[0m\u001b[0;34m\u001b[0m\u001b[0m\n",
      "\u001b[0;32m<ipython-input-16-6fa80c00ee18>\u001b[0m in \u001b[0;36mattack_targeted_iteration\u001b[0;34m(img, model, target, pixel_count, iterations, population, mutation, recombination, stop_threshold, callback)\u001b[0m\n\u001b[1;32m     11\u001b[0m     \u001b[0mdisp\u001b[0m \u001b[0;34m=\u001b[0m \u001b[0mcallback\u001b[0m \u001b[0;34m==\u001b[0m \u001b[0;32mNone\u001b[0m\u001b[0;34m\u001b[0m\u001b[0m\n\u001b[1;32m     12\u001b[0m \u001b[0;34m\u001b[0m\u001b[0m\n\u001b[0;32m---> 13\u001b[0;31m     \u001b[0mres\u001b[0m \u001b[0;34m=\u001b[0m \u001b[0mdifferential_evolution\u001b[0m\u001b[0;34m(\u001b[0m\u001b[0mattack\u001b[0m\u001b[0;34m,\u001b[0m \u001b[0mbounds\u001b[0m\u001b[0;34m,\u001b[0m \u001b[0margs\u001b[0m\u001b[0;34m=\u001b[0m\u001b[0margs\u001b[0m\u001b[0;34m,\u001b[0m \u001b[0mmaxiter\u001b[0m\u001b[0;34m=\u001b[0m\u001b[0miterations\u001b[0m\u001b[0;34m,\u001b[0m \u001b[0mpopsize\u001b[0m\u001b[0;34m=\u001b[0m\u001b[0mpopulation\u001b[0m\u001b[0;34m,\u001b[0m \u001b[0mmutation\u001b[0m\u001b[0;34m=\u001b[0m\u001b[0;36m0.5\u001b[0m\u001b[0;34m,\u001b[0m \u001b[0mrecombination\u001b[0m\u001b[0;34m=\u001b[0m\u001b[0;36m1\u001b[0m\u001b[0;34m,\u001b[0m \u001b[0matol\u001b[0m\u001b[0;34m=\u001b[0m\u001b[0mstop_threshold\u001b[0m\u001b[0;34m,\u001b[0m \u001b[0mdisp\u001b[0m\u001b[0;34m=\u001b[0m\u001b[0mdisp\u001b[0m\u001b[0;34m,\u001b[0m \u001b[0mcallback\u001b[0m\u001b[0;34m=\u001b[0m\u001b[0mcb\u001b[0m\u001b[0;34m)\u001b[0m\u001b[0;34m\u001b[0m\u001b[0m\n\u001b[0m\u001b[1;32m     14\u001b[0m \u001b[0;34m\u001b[0m\u001b[0m\n\u001b[1;32m     15\u001b[0m     \u001b[0mattack_image\u001b[0m \u001b[0;34m=\u001b[0m \u001b[0mperturb_image\u001b[0m\u001b[0;34m(\u001b[0m\u001b[0mres\u001b[0m\u001b[0;34m.\u001b[0m\u001b[0mx\u001b[0m\u001b[0;34m,\u001b[0m \u001b[0mx_test\u001b[0m\u001b[0;34m[\u001b[0m\u001b[0mimg\u001b[0m\u001b[0;34m]\u001b[0m\u001b[0;34m)\u001b[0m\u001b[0;34m\u001b[0m\u001b[0m\n",
      "\u001b[0;32m~/Documents/anaconda3/lib/python3.6/site-packages/scipy/optimize/_differentialevolution.py\u001b[0m in \u001b[0;36mdifferential_evolution\u001b[0;34m(func, bounds, args, strategy, maxiter, popsize, tol, mutation, recombination, seed, callback, disp, polish, init, atol)\u001b[0m\n\u001b[1;32m    211\u001b[0m                                          \u001b[0mcallback\u001b[0m\u001b[0;34m=\u001b[0m\u001b[0mcallback\u001b[0m\u001b[0;34m,\u001b[0m\u001b[0;34m\u001b[0m\u001b[0m\n\u001b[1;32m    212\u001b[0m                                          disp=disp, init=init, atol=atol)\n\u001b[0;32m--> 213\u001b[0;31m     \u001b[0;32mreturn\u001b[0m \u001b[0msolver\u001b[0m\u001b[0;34m.\u001b[0m\u001b[0msolve\u001b[0m\u001b[0;34m(\u001b[0m\u001b[0;34m)\u001b[0m\u001b[0;34m\u001b[0m\u001b[0m\n\u001b[0m\u001b[1;32m    214\u001b[0m \u001b[0;34m\u001b[0m\u001b[0m\n\u001b[1;32m    215\u001b[0m \u001b[0;34m\u001b[0m\u001b[0m\n",
      "\u001b[0;32m~/Documents/anaconda3/lib/python3.6/site-packages/scipy/optimize/_differentialevolution.py\u001b[0m in \u001b[0;36msolve\u001b[0;34m(self)\u001b[0m\n\u001b[1;32m    515\u001b[0m             \u001b[0;31m# evolve the population by a generation\u001b[0m\u001b[0;34m\u001b[0m\u001b[0;34m\u001b[0m\u001b[0m\n\u001b[1;32m    516\u001b[0m             \u001b[0;32mtry\u001b[0m\u001b[0;34m:\u001b[0m\u001b[0;34m\u001b[0m\u001b[0m\n\u001b[0;32m--> 517\u001b[0;31m                 \u001b[0mnext\u001b[0m\u001b[0;34m(\u001b[0m\u001b[0mself\u001b[0m\u001b[0;34m)\u001b[0m\u001b[0;34m\u001b[0m\u001b[0m\n\u001b[0m\u001b[1;32m    518\u001b[0m             \u001b[0;32mexcept\u001b[0m \u001b[0mStopIteration\u001b[0m\u001b[0;34m:\u001b[0m\u001b[0;34m\u001b[0m\u001b[0m\n\u001b[1;32m    519\u001b[0m                 \u001b[0mwarning_flag\u001b[0m \u001b[0;34m=\u001b[0m \u001b[0;32mTrue\u001b[0m\u001b[0;34m\u001b[0m\u001b[0m\n",
      "\u001b[0;32m~/Documents/anaconda3/lib/python3.6/site-packages/scipy/optimize/_differentialevolution.py\u001b[0m in \u001b[0;36m__next__\u001b[0;34m(self)\u001b[0m\n\u001b[1;32m    637\u001b[0m \u001b[0;34m\u001b[0m\u001b[0m\n\u001b[1;32m    638\u001b[0m             \u001b[0;31m# determine the energy of the objective function\u001b[0m\u001b[0;34m\u001b[0m\u001b[0;34m\u001b[0m\u001b[0m\n\u001b[0;32m--> 639\u001b[0;31m             \u001b[0menergy\u001b[0m \u001b[0;34m=\u001b[0m \u001b[0mself\u001b[0m\u001b[0;34m.\u001b[0m\u001b[0mfunc\u001b[0m\u001b[0;34m(\u001b[0m\u001b[0mparameters\u001b[0m\u001b[0;34m,\u001b[0m \u001b[0;34m*\u001b[0m\u001b[0mself\u001b[0m\u001b[0;34m.\u001b[0m\u001b[0margs\u001b[0m\u001b[0;34m)\u001b[0m\u001b[0;34m\u001b[0m\u001b[0m\n\u001b[0m\u001b[1;32m    640\u001b[0m             \u001b[0mself\u001b[0m\u001b[0;34m.\u001b[0m\u001b[0m_nfev\u001b[0m \u001b[0;34m+=\u001b[0m \u001b[0;36m1\u001b[0m\u001b[0;34m\u001b[0m\u001b[0m\n\u001b[1;32m    641\u001b[0m \u001b[0;34m\u001b[0m\u001b[0m\n",
      "\u001b[0;32m<ipython-input-11-2125bc4b7b80>\u001b[0m in \u001b[0;36mpredict_targeted\u001b[0;34m(x, *args)\u001b[0m\n\u001b[1;32m      2\u001b[0m     \u001b[0mimg\u001b[0m\u001b[0;34m,\u001b[0m \u001b[0mtarget_class\u001b[0m\u001b[0;34m,\u001b[0m \u001b[0mmodel\u001b[0m \u001b[0;34m=\u001b[0m \u001b[0margs\u001b[0m\u001b[0;34m\u001b[0m\u001b[0m\n\u001b[1;32m      3\u001b[0m     \u001b[0mimg_perturbed\u001b[0m \u001b[0;34m=\u001b[0m \u001b[0mperturb_image\u001b[0m\u001b[0;34m(\u001b[0m\u001b[0mx\u001b[0m\u001b[0;34m,\u001b[0m \u001b[0mimg\u001b[0m\u001b[0;34m)\u001b[0m\u001b[0;34m\u001b[0m\u001b[0m\n\u001b[0;32m----> 4\u001b[0;31m     \u001b[0mprediction\u001b[0m \u001b[0;34m=\u001b[0m \u001b[0mmodel\u001b[0m\u001b[0;34m.\u001b[0m\u001b[0mpredict\u001b[0m\u001b[0;34m(\u001b[0m\u001b[0mimg_perturbed\u001b[0m\u001b[0;34m)\u001b[0m\u001b[0;34m\u001b[0m\u001b[0m\n\u001b[0m\u001b[1;32m      5\u001b[0m     \u001b[0;32mreturn\u001b[0m \u001b[0;36m1\u001b[0m \u001b[0;34m-\u001b[0m \u001b[0mprediction\u001b[0m\u001b[0;34m[\u001b[0m\u001b[0mtarget_class\u001b[0m\u001b[0;34m]\u001b[0m\u001b[0;34m\u001b[0m\u001b[0m\n",
      "\u001b[0;32m~/Documents/drive/code/projects/ml/one-pixel-attack/networks/resnet.py\u001b[0m in \u001b[0;36mpredict\u001b[0;34m(self, img)\u001b[0m\n\u001b[1;32m    172\u001b[0m     \u001b[0;32mdef\u001b[0m \u001b[0mpredict\u001b[0m\u001b[0;34m(\u001b[0m\u001b[0mself\u001b[0m\u001b[0;34m,\u001b[0m \u001b[0mimg\u001b[0m\u001b[0;34m)\u001b[0m\u001b[0;34m:\u001b[0m\u001b[0;34m\u001b[0m\u001b[0m\n\u001b[1;32m    173\u001b[0m         \u001b[0mprocessed\u001b[0m \u001b[0;34m=\u001b[0m \u001b[0mself\u001b[0m\u001b[0;34m.\u001b[0m\u001b[0mcolor_process\u001b[0m\u001b[0;34m(\u001b[0m\u001b[0mimg\u001b[0m\u001b[0;34m)\u001b[0m\u001b[0;34m\u001b[0m\u001b[0m\n\u001b[0;32m--> 174\u001b[0;31m         \u001b[0;32mreturn\u001b[0m \u001b[0mself\u001b[0m\u001b[0;34m.\u001b[0m\u001b[0m_model\u001b[0m\u001b[0;34m.\u001b[0m\u001b[0mpredict\u001b[0m\u001b[0;34m(\u001b[0m\u001b[0mnp\u001b[0m\u001b[0;34m.\u001b[0m\u001b[0marray\u001b[0m\u001b[0;34m(\u001b[0m\u001b[0;34m[\u001b[0m\u001b[0mprocessed\u001b[0m\u001b[0;34m]\u001b[0m\u001b[0;34m)\u001b[0m\u001b[0;34m)\u001b[0m\u001b[0;34m[\u001b[0m\u001b[0;36m0\u001b[0m\u001b[0;34m]\u001b[0m\u001b[0;34m\u001b[0m\u001b[0m\n\u001b[0m\u001b[1;32m    175\u001b[0m \u001b[0;34m\u001b[0m\u001b[0m\n\u001b[1;32m    176\u001b[0m     \u001b[0;32mdef\u001b[0m \u001b[0maccuracy\u001b[0m\u001b[0;34m(\u001b[0m\u001b[0mself\u001b[0m\u001b[0;34m)\u001b[0m\u001b[0;34m:\u001b[0m\u001b[0;34m\u001b[0m\u001b[0m\n",
      "\u001b[0;32m~/Documents/anaconda3/lib/python3.6/site-packages/keras/engine/training.py\u001b[0m in \u001b[0;36mpredict\u001b[0;34m(self, x, batch_size, verbose, steps)\u001b[0m\n\u001b[1;32m   1840\u001b[0m         \u001b[0mf\u001b[0m \u001b[0;34m=\u001b[0m \u001b[0mself\u001b[0m\u001b[0;34m.\u001b[0m\u001b[0mpredict_function\u001b[0m\u001b[0;34m\u001b[0m\u001b[0m\n\u001b[1;32m   1841\u001b[0m         return self._predict_loop(f, ins, batch_size=batch_size,\n\u001b[0;32m-> 1842\u001b[0;31m                                   verbose=verbose, steps=steps)\n\u001b[0m\u001b[1;32m   1843\u001b[0m \u001b[0;34m\u001b[0m\u001b[0m\n\u001b[1;32m   1844\u001b[0m     def train_on_batch(self, x, y,\n",
      "\u001b[0;32m~/Documents/anaconda3/lib/python3.6/site-packages/keras/engine/training.py\u001b[0m in \u001b[0;36m_predict_loop\u001b[0;34m(self, f, ins, batch_size, verbose, steps)\u001b[0m\n\u001b[1;32m   1335\u001b[0m                     \u001b[0mins_batch\u001b[0m\u001b[0;34m[\u001b[0m\u001b[0mi\u001b[0m\u001b[0;34m]\u001b[0m \u001b[0;34m=\u001b[0m \u001b[0mins_batch\u001b[0m\u001b[0;34m[\u001b[0m\u001b[0mi\u001b[0m\u001b[0;34m]\u001b[0m\u001b[0;34m.\u001b[0m\u001b[0mtoarray\u001b[0m\u001b[0;34m(\u001b[0m\u001b[0;34m)\u001b[0m\u001b[0;34m\u001b[0m\u001b[0m\n\u001b[1;32m   1336\u001b[0m \u001b[0;34m\u001b[0m\u001b[0m\n\u001b[0;32m-> 1337\u001b[0;31m                 \u001b[0mbatch_outs\u001b[0m \u001b[0;34m=\u001b[0m \u001b[0mf\u001b[0m\u001b[0;34m(\u001b[0m\u001b[0mins_batch\u001b[0m\u001b[0;34m)\u001b[0m\u001b[0;34m\u001b[0m\u001b[0m\n\u001b[0m\u001b[1;32m   1338\u001b[0m                 \u001b[0;32mif\u001b[0m \u001b[0;32mnot\u001b[0m \u001b[0misinstance\u001b[0m\u001b[0;34m(\u001b[0m\u001b[0mbatch_outs\u001b[0m\u001b[0;34m,\u001b[0m \u001b[0mlist\u001b[0m\u001b[0;34m)\u001b[0m\u001b[0;34m:\u001b[0m\u001b[0;34m\u001b[0m\u001b[0m\n\u001b[1;32m   1339\u001b[0m                     \u001b[0mbatch_outs\u001b[0m \u001b[0;34m=\u001b[0m \u001b[0;34m[\u001b[0m\u001b[0mbatch_outs\u001b[0m\u001b[0;34m]\u001b[0m\u001b[0;34m\u001b[0m\u001b[0m\n",
      "\u001b[0;32m~/Documents/anaconda3/lib/python3.6/site-packages/keras/backend/tensorflow_backend.py\u001b[0m in \u001b[0;36m__call__\u001b[0;34m(self, inputs)\u001b[0m\n\u001b[1;32m   2473\u001b[0m         \u001b[0msession\u001b[0m \u001b[0;34m=\u001b[0m \u001b[0mget_session\u001b[0m\u001b[0;34m(\u001b[0m\u001b[0;34m)\u001b[0m\u001b[0;34m\u001b[0m\u001b[0m\n\u001b[1;32m   2474\u001b[0m         updated = session.run(fetches=fetches, feed_dict=feed_dict,\n\u001b[0;32m-> 2475\u001b[0;31m                               **self.session_kwargs)\n\u001b[0m\u001b[1;32m   2476\u001b[0m         \u001b[0;32mreturn\u001b[0m \u001b[0mupdated\u001b[0m\u001b[0;34m[\u001b[0m\u001b[0;34m:\u001b[0m\u001b[0mlen\u001b[0m\u001b[0;34m(\u001b[0m\u001b[0mself\u001b[0m\u001b[0;34m.\u001b[0m\u001b[0moutputs\u001b[0m\u001b[0;34m)\u001b[0m\u001b[0;34m]\u001b[0m\u001b[0;34m\u001b[0m\u001b[0m\n\u001b[1;32m   2477\u001b[0m \u001b[0;34m\u001b[0m\u001b[0m\n",
      "\u001b[0;32m~/Documents/anaconda3/lib/python3.6/site-packages/tensorflow/python/client/session.py\u001b[0m in \u001b[0;36mrun\u001b[0;34m(self, fetches, feed_dict, options, run_metadata)\u001b[0m\n\u001b[1;32m    893\u001b[0m     \u001b[0;32mtry\u001b[0m\u001b[0;34m:\u001b[0m\u001b[0;34m\u001b[0m\u001b[0m\n\u001b[1;32m    894\u001b[0m       result = self._run(None, fetches, feed_dict, options_ptr,\n\u001b[0;32m--> 895\u001b[0;31m                          run_metadata_ptr)\n\u001b[0m\u001b[1;32m    896\u001b[0m       \u001b[0;32mif\u001b[0m \u001b[0mrun_metadata\u001b[0m\u001b[0;34m:\u001b[0m\u001b[0;34m\u001b[0m\u001b[0m\n\u001b[1;32m    897\u001b[0m         \u001b[0mproto_data\u001b[0m \u001b[0;34m=\u001b[0m \u001b[0mtf_session\u001b[0m\u001b[0;34m.\u001b[0m\u001b[0mTF_GetBuffer\u001b[0m\u001b[0;34m(\u001b[0m\u001b[0mrun_metadata_ptr\u001b[0m\u001b[0;34m)\u001b[0m\u001b[0;34m\u001b[0m\u001b[0m\n",
      "\u001b[0;32m~/Documents/anaconda3/lib/python3.6/site-packages/tensorflow/python/client/session.py\u001b[0m in \u001b[0;36m_run\u001b[0;34m(self, handle, fetches, feed_dict, options, run_metadata)\u001b[0m\n\u001b[1;32m   1126\u001b[0m     \u001b[0;32mif\u001b[0m \u001b[0mfinal_fetches\u001b[0m \u001b[0;32mor\u001b[0m \u001b[0mfinal_targets\u001b[0m \u001b[0;32mor\u001b[0m \u001b[0;34m(\u001b[0m\u001b[0mhandle\u001b[0m \u001b[0;32mand\u001b[0m \u001b[0mfeed_dict_tensor\u001b[0m\u001b[0;34m)\u001b[0m\u001b[0;34m:\u001b[0m\u001b[0;34m\u001b[0m\u001b[0m\n\u001b[1;32m   1127\u001b[0m       results = self._do_run(handle, final_targets, final_fetches,\n\u001b[0;32m-> 1128\u001b[0;31m                              feed_dict_tensor, options, run_metadata)\n\u001b[0m\u001b[1;32m   1129\u001b[0m     \u001b[0;32melse\u001b[0m\u001b[0;34m:\u001b[0m\u001b[0;34m\u001b[0m\u001b[0m\n\u001b[1;32m   1130\u001b[0m       \u001b[0mresults\u001b[0m \u001b[0;34m=\u001b[0m \u001b[0;34m[\u001b[0m\u001b[0;34m]\u001b[0m\u001b[0;34m\u001b[0m\u001b[0m\n",
      "\u001b[0;32m~/Documents/anaconda3/lib/python3.6/site-packages/tensorflow/python/client/session.py\u001b[0m in \u001b[0;36m_do_run\u001b[0;34m(self, handle, target_list, fetch_list, feed_dict, options, run_metadata)\u001b[0m\n\u001b[1;32m   1342\u001b[0m     \u001b[0;32mif\u001b[0m \u001b[0mhandle\u001b[0m \u001b[0;32mis\u001b[0m \u001b[0;32mNone\u001b[0m\u001b[0;34m:\u001b[0m\u001b[0;34m\u001b[0m\u001b[0m\n\u001b[1;32m   1343\u001b[0m       return self._do_call(_run_fn, self._session, feeds, fetches, targets,\n\u001b[0;32m-> 1344\u001b[0;31m                            options, run_metadata)\n\u001b[0m\u001b[1;32m   1345\u001b[0m     \u001b[0;32melse\u001b[0m\u001b[0;34m:\u001b[0m\u001b[0;34m\u001b[0m\u001b[0m\n\u001b[1;32m   1346\u001b[0m       \u001b[0;32mreturn\u001b[0m \u001b[0mself\u001b[0m\u001b[0;34m.\u001b[0m\u001b[0m_do_call\u001b[0m\u001b[0;34m(\u001b[0m\u001b[0m_prun_fn\u001b[0m\u001b[0;34m,\u001b[0m \u001b[0mself\u001b[0m\u001b[0;34m.\u001b[0m\u001b[0m_session\u001b[0m\u001b[0;34m,\u001b[0m \u001b[0mhandle\u001b[0m\u001b[0;34m,\u001b[0m \u001b[0mfeeds\u001b[0m\u001b[0;34m,\u001b[0m \u001b[0mfetches\u001b[0m\u001b[0;34m)\u001b[0m\u001b[0;34m\u001b[0m\u001b[0m\n",
      "\u001b[0;32m~/Documents/anaconda3/lib/python3.6/site-packages/tensorflow/python/client/session.py\u001b[0m in \u001b[0;36m_do_call\u001b[0;34m(self, fn, *args)\u001b[0m\n\u001b[1;32m   1348\u001b[0m   \u001b[0;32mdef\u001b[0m \u001b[0m_do_call\u001b[0m\u001b[0;34m(\u001b[0m\u001b[0mself\u001b[0m\u001b[0;34m,\u001b[0m \u001b[0mfn\u001b[0m\u001b[0;34m,\u001b[0m \u001b[0;34m*\u001b[0m\u001b[0margs\u001b[0m\u001b[0;34m)\u001b[0m\u001b[0;34m:\u001b[0m\u001b[0;34m\u001b[0m\u001b[0m\n\u001b[1;32m   1349\u001b[0m     \u001b[0;32mtry\u001b[0m\u001b[0;34m:\u001b[0m\u001b[0;34m\u001b[0m\u001b[0m\n\u001b[0;32m-> 1350\u001b[0;31m       \u001b[0;32mreturn\u001b[0m \u001b[0mfn\u001b[0m\u001b[0;34m(\u001b[0m\u001b[0;34m*\u001b[0m\u001b[0margs\u001b[0m\u001b[0;34m)\u001b[0m\u001b[0;34m\u001b[0m\u001b[0m\n\u001b[0m\u001b[1;32m   1351\u001b[0m     \u001b[0;32mexcept\u001b[0m \u001b[0merrors\u001b[0m\u001b[0;34m.\u001b[0m\u001b[0mOpError\u001b[0m \u001b[0;32mas\u001b[0m \u001b[0me\u001b[0m\u001b[0;34m:\u001b[0m\u001b[0;34m\u001b[0m\u001b[0m\n\u001b[1;32m   1352\u001b[0m       \u001b[0mmessage\u001b[0m \u001b[0;34m=\u001b[0m \u001b[0mcompat\u001b[0m\u001b[0;34m.\u001b[0m\u001b[0mas_text\u001b[0m\u001b[0;34m(\u001b[0m\u001b[0me\u001b[0m\u001b[0;34m.\u001b[0m\u001b[0mmessage\u001b[0m\u001b[0;34m)\u001b[0m\u001b[0;34m\u001b[0m\u001b[0m\n",
      "\u001b[0;32m~/Documents/anaconda3/lib/python3.6/site-packages/tensorflow/python/client/session.py\u001b[0m in \u001b[0;36m_run_fn\u001b[0;34m(session, feed_dict, fetch_list, target_list, options, run_metadata)\u001b[0m\n\u001b[1;32m   1327\u001b[0m           return tf_session.TF_Run(session, options,\n\u001b[1;32m   1328\u001b[0m                                    \u001b[0mfeed_dict\u001b[0m\u001b[0;34m,\u001b[0m \u001b[0mfetch_list\u001b[0m\u001b[0;34m,\u001b[0m \u001b[0mtarget_list\u001b[0m\u001b[0;34m,\u001b[0m\u001b[0;34m\u001b[0m\u001b[0m\n\u001b[0;32m-> 1329\u001b[0;31m                                    status, run_metadata)\n\u001b[0m\u001b[1;32m   1330\u001b[0m \u001b[0;34m\u001b[0m\u001b[0m\n\u001b[1;32m   1331\u001b[0m     \u001b[0;32mdef\u001b[0m \u001b[0m_prun_fn\u001b[0m\u001b[0;34m(\u001b[0m\u001b[0msession\u001b[0m\u001b[0;34m,\u001b[0m \u001b[0mhandle\u001b[0m\u001b[0;34m,\u001b[0m \u001b[0mfeed_dict\u001b[0m\u001b[0;34m,\u001b[0m \u001b[0mfetch_list\u001b[0m\u001b[0;34m)\u001b[0m\u001b[0;34m:\u001b[0m\u001b[0;34m\u001b[0m\u001b[0m\n",
      "\u001b[0;31mKeyboardInterrupt\u001b[0m: "
     ]
    }
   ],
   "source": [
    "targeted_results = attack_targeted(resnet)"
   ]
  },
  {
   "cell_type": "code",
   "execution_count": null,
   "metadata": {
    "collapsed": true
   },
   "outputs": [],
   "source": [
    "targeted_results"
   ]
  },
  {
   "cell_type": "markdown",
   "metadata": {},
   "source": [
    "### Show some successful attacks"
   ]
  },
  {
   "cell_type": "markdown",
   "metadata": {},
   "source": [
    "Plot the first 9 misclassified images"
   ]
  },
  {
   "cell_type": "markdown",
   "metadata": {},
   "source": [
    "## Credits\n",
    " - Base code taken from https://github.com/09rohanchopra/cifar10\n",
    " - https://arxiv.org/pdf/1412.6806.pdf\n",
    " - https://github.com/fchollet/keras/blob/master/examples/cifar10_cnn.py\n",
    " - https://github.com/Hvass-Labs/TensorFlow-Tutorials/blob/master/06_CIFAR-10.ipynb\n",
    " - http://machinelearningmastery.com/object-recognition-convolutional-neural-networks-keras-deep-learning-library/\n",
    " - https://parneetk.github.io/blog/cnn-cifar10/\n",
    " - https://github.com/dnlcrl/deep-residual-networks-pyfunt/blob/master/docs/CIFAR-10%20Experiments.ipynb"
   ]
  }
 ],
 "metadata": {
  "kernelspec": {
   "display_name": "Python 3",
   "language": "python",
   "name": "python3"
  },
  "language_info": {
   "codemirror_mode": {
    "name": "ipython",
    "version": 3
   },
   "file_extension": ".py",
   "mimetype": "text/x-python",
   "name": "python",
   "nbconvert_exporter": "python",
   "pygments_lexer": "ipython3",
   "version": "3.6.3"
  }
 },
 "nbformat": 4,
 "nbformat_minor": 2
}
