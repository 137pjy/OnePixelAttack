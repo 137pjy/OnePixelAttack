{
 "cells": [
  {
   "cell_type": "markdown",
   "metadata": {},
   "source": [
    "# One Pixel Attack Tutorial"
   ]
  },
  {
   "cell_type": "markdown",
   "metadata": {},
   "source": [
    "![](images/horse.png \"I'm a normal horse, nothing suspicious here\") ![](images/horse-attack.png \"I'm an attack horse, grr\")"
   ]
  },
  {
   "cell_type": "markdown",
   "metadata": {},
   "source": [
    "### Imports"
   ]
  },
  {
   "cell_type": "code",
   "execution_count": 1,
   "metadata": {},
   "outputs": [
    {
     "name": "stderr",
     "output_type": "stream",
     "text": [
      "/home/hyper/Documents/anaconda3/lib/python3.6/site-packages/h5py/__init__.py:34: FutureWarning: Conversion of the second argument of issubdtype from `float` to `np.floating` is deprecated. In future, it will be treated as `np.float64 == np.dtype(float).type`.\n",
      "  from ._conv import register_converters as _register_converters\n",
      "Using TensorFlow backend.\n"
     ]
    }
   ],
   "source": [
    "%matplotlib inline\n",
    "import numpy as np\n",
    "import pandas as pd\n",
    "import matplotlib\n",
    "from matplotlib import pyplot as plt\n",
    "from keras.datasets import cifar10\n",
    "from scipy.optimize import differential_evolution\n",
    "from scipy.stats import truncnorm\n",
    "from IPython.display import clear_output"
   ]
  },
  {
   "cell_type": "code",
   "execution_count": 2,
   "metadata": {},
   "outputs": [],
   "source": [
    "from networks.wide_resnet import WideResNet\n",
    "from networks.pure_cnn import PureCnn\n",
    "from helper import get_class_names, plot_image"
   ]
  },
  {
   "cell_type": "code",
   "execution_count": 3,
   "metadata": {
    "collapsed": true
   },
   "outputs": [],
   "source": [
    "matplotlib.style.use('ggplot')"
   ]
  },
  {
   "cell_type": "markdown",
   "metadata": {},
   "source": [
    "### Load Data"
   ]
  },
  {
   "cell_type": "markdown",
   "metadata": {},
   "source": [
    "Load the Cifar10 dataset and all necessary metadata."
   ]
  },
  {
   "cell_type": "code",
   "execution_count": 4,
   "metadata": {},
   "outputs": [],
   "source": [
    "(x_train, y_train), (x_test, y_test) = cifar10.load_data()"
   ]
  },
  {
   "cell_type": "code",
   "execution_count": 5,
   "metadata": {},
   "outputs": [
    {
     "name": "stdout",
     "output_type": "stream",
     "text": [
      "Decoding file: data/batches.meta\n",
      "['airplane', 'automobile', 'bird', 'cat', 'deer', 'dog', 'frog', 'horse', 'ship', 'truck']\n"
     ]
    }
   ],
   "source": [
    "# Obtain the names of the 10 classes in cifar10\n",
    "class_names = get_class_names()\n",
    "print(class_names)"
   ]
  },
  {
   "cell_type": "markdown",
   "metadata": {},
   "source": [
    "### Load Models"
   ]
  },
  {
   "cell_type": "markdown",
   "metadata": {},
   "source": [
    "Load various pre-trained Neural Network models in the `networks/models` directory. If the models don't exist or cannot be loaded, they will be trained here. \n",
    "\n",
    "Keras will need to also download the Cifar10 dataset if it is not cached locally already."
   ]
  },
  {
   "cell_type": "code",
   "execution_count": 6,
   "metadata": {},
   "outputs": [
    {
     "name": "stdout",
     "output_type": "stream",
     "text": [
      "Successfully loaded wide_resnet\n",
      "Successfully loaded pure_cnn\n"
     ]
    }
   ],
   "source": [
    "wide_resnet = WideResNet()\n",
    "pure_cnn = PureCnn()\n",
    "\n",
    "models = [pure_cnn, wide_resnet]"
   ]
  },
  {
   "cell_type": "markdown",
   "metadata": {},
   "source": [
    "### Calculate Model Accuracies"
   ]
  },
  {
   "cell_type": "code",
   "execution_count": 7,
   "metadata": {},
   "outputs": [],
   "source": [
    "final_results = pd.DataFrame()\n",
    "final_results['name'] = [model.name for model in models]\n",
    "final_results['accuracy'] = [model.accuracy() for model in models]"
   ]
  },
  {
   "cell_type": "code",
   "execution_count": 8,
   "metadata": {},
   "outputs": [
    {
     "data": {
      "text/html": [
       "<div>\n",
       "<style>\n",
       "    .dataframe thead tr:only-child th {\n",
       "        text-align: right;\n",
       "    }\n",
       "\n",
       "    .dataframe thead th {\n",
       "        text-align: left;\n",
       "    }\n",
       "\n",
       "    .dataframe tbody tr th {\n",
       "        vertical-align: top;\n",
       "    }\n",
       "</style>\n",
       "<table border=\"1\" class=\"dataframe\">\n",
       "  <thead>\n",
       "    <tr style=\"text-align: right;\">\n",
       "      <th></th>\n",
       "      <th>name</th>\n",
       "      <th>accuracy</th>\n",
       "    </tr>\n",
       "  </thead>\n",
       "  <tbody>\n",
       "    <tr>\n",
       "      <th>0</th>\n",
       "      <td>pure_cnn</td>\n",
       "      <td>0.3548</td>\n",
       "    </tr>\n",
       "    <tr>\n",
       "      <th>1</th>\n",
       "      <td>wide_resnet</td>\n",
       "      <td>0.9534</td>\n",
       "    </tr>\n",
       "  </tbody>\n",
       "</table>\n",
       "</div>"
      ],
      "text/plain": [
       "          name  accuracy\n",
       "0     pure_cnn    0.3548\n",
       "1  wide_resnet    0.9534"
      ]
     },
     "execution_count": 8,
     "metadata": {},
     "output_type": "execute_result"
    }
   ],
   "source": [
    "final_results"
   ]
  },
  {
   "cell_type": "markdown",
   "metadata": {},
   "source": [
    "### Image Perturbation"
   ]
  },
  {
   "cell_type": "code",
   "execution_count": 9,
   "metadata": {
    "collapsed": true
   },
   "outputs": [],
   "source": [
    "def perturb_image(x, img):\n",
    "    img = np.copy(img)\n",
    "    pixels = np.split(x.astype(int), len(x) // 5)\n",
    "    for x in pixels:\n",
    "        x_pos, y_pos, rgb = *x[:2], x[2:]\n",
    "        img[x_pos][y_pos] = rgb\n",
    "    return img"
   ]
  },
  {
   "cell_type": "code",
   "execution_count": 10,
   "metadata": {
    "collapsed": true
   },
   "outputs": [],
   "source": [
    "def predict_untargeted(x, *args):\n",
    "    img, correct_class, model = args\n",
    "    img_perturbed = perturb_image(x, img)\n",
    "    prediction = model.predict(img_perturbed)\n",
    "    return prediction[correct_class]"
   ]
  },
  {
   "cell_type": "code",
   "execution_count": 11,
   "metadata": {},
   "outputs": [],
   "source": [
    "def predict_targeted(x, *args):\n",
    "    img, target_class, model = args\n",
    "    img_perturbed = perturb_image(x, img)\n",
    "    prediction = model.predict(img_perturbed)\n",
    "    return 1 - prediction[target_class]"
   ]
  },
  {
   "cell_type": "markdown",
   "metadata": {},
   "source": [
    "### Untargeted Attack"
   ]
  },
  {
   "cell_type": "markdown",
   "metadata": {},
   "source": [
    "The objective of an untargeted attack is to cause a model to misclassify an image. This means we want to minimize the probability of the correct classification category and maximize the sum of the probabilities of all other categories."
   ]
  },
  {
   "cell_type": "code",
   "execution_count": 46,
   "metadata": {
    "collapsed": true
   },
   "outputs": [],
   "source": [
    "def attack_untargeted_iteration(img, model, pixel_count=1, iterations=30,\n",
    "                                population=100, mutation=0.5, recombination=0.7, \n",
    "                                stop_threshold=-0.01, callback=None):\n",
    "    print('Attacking image', img)\n",
    "    \n",
    "    args = x_test[img], y_test[img], model\n",
    "    bounds = [(0,32), (0,32), (0,256), (0,256), (0,256)] * pixel_count\n",
    "    attack = predict_untargeted\n",
    "\n",
    "    cb = None if callback == None else lambda x,convergence: callback(x, convergence, args)\n",
    "    disp = callback == None\n",
    "    \n",
    "    res = differential_evolution(attack, bounds, args=args, maxiter=iterations, popsize=population, mutation=0.5, recombination=1, atol=stop_threshold, disp=disp, callback=cb)\n",
    "\n",
    "    attack_image = perturb_image(res.x, x_test[img])\n",
    "    predicted_probs = model.predict(attack_image)\n",
    "    predicted_class = np.argmax(predicted_probs)\n",
    "    actual_class = y_test[img][0]\n",
    "    success = predicted_class != actual_class\n",
    "\n",
    "    plot_image(attack_image, actual_class, class_names, predicted_class)\n",
    "\n",
    "    return [img, actual_class, predicted_class, success, predicted_probs, attack_image]"
   ]
  },
  {
   "cell_type": "code",
   "execution_count": 47,
   "metadata": {},
   "outputs": [],
   "source": [
    "def untargeted_callback(x, convergence, args):\n",
    "    img, correct_class, model = args\n",
    "    correct_class = correct_class[0]\n",
    "    img_perturbed = perturb_image(x, img)\n",
    "    confidence = model.predict(img_perturbed)\n",
    "    prediction = np.argmax(confidence)\n",
    "    print('Confidence:', confidence[correct_class])\n",
    "    if (prediction != correct_class):\n",
    "        return True # Do it this way because returning it directly will prevent early halting"
   ]
  },
  {
   "cell_type": "code",
   "execution_count": 48,
   "metadata": {
    "scrolled": true
   },
   "outputs": [
    {
     "name": "stdout",
     "output_type": "stream",
     "text": [
      "Attacking image 99\n",
      "Confidence: 0.9765877\n",
      "Confidence: 0.9765877\n",
      "Confidence: 0.8886552\n",
      "Confidence: 0.49795097\n"
     ]
    },
    {
     "data": {
      "image/png": "[encoded data removed]",
      "text/plain": [
       "<matplotlib.figure.Figure at 0x7fe6e7628c18>"
      ]
     },
     "metadata": {},
     "output_type": "display_data"
    }
   ],
   "source": [
    "_ = attack_untargeted_iteration(99, wide_resnet, pixel_count=2, callback=untargeted_callback)"
   ]
  },
  {
   "cell_type": "code",
   "execution_count": null,
   "metadata": {},
   "outputs": [],
   "source": [
    "def attack_untargeted(model, pixel_count=1, sample_count=100, iterations=30,\n",
    "                      population=100, mutation=0.5, recombination=1, \n",
    "                      stop_threshold=-0.01, callback=untargeted_callback):\n",
    "    print('Targeting model', model.name)\n",
    "    \n",
    "    samples = np.random.choice(len(x_test), sample_count)\n",
    "    \n",
    "    results = []\n",
    "    for i,img in enumerate(samples):\n",
    "        print('Iteration', i)\n",
    "        result = attack_untargeted_iteration(\n",
    "            img, model, pixel_count, iterations,\n",
    "            population, mutation, recombination, \n",
    "            stop_threshold, callback)\n",
    "        results.append(result)\n",
    "        print()\n",
    "    \n",
    "    return pd.DataFrame(\n",
    "        data=results,\n",
    "        columns=['image_index', 'true_class', 'predicted_class', 'success', 'predicted_probs', 'attack_image']\n",
    "    )"
   ]
  },
  {
   "cell_type": "code",
   "execution_count": null,
   "metadata": {
    "scrolled": true
   },
   "outputs": [
    {
     "name": "stdout",
     "output_type": "stream",
     "text": [
      "Targeting model wide_resnet\n",
      "Iteration 0\n",
      "Attacking image 6662\n",
      "Confidence: 0.06800787\n"
     ]
    },
    {
     "data": {
      "image/png": "[encoded data removed]",
      "text/plain": [
       "<matplotlib.figure.Figure at 0x7fe6e7568978>"
      ]
     },
     "metadata": {},
     "output_type": "display_data"
    },
    {
     "name": "stdout",
     "output_type": "stream",
     "text": [
      "\n",
      "Iteration 1\n",
      "Attacking image 1223\n",
      "Confidence: 0.9999286\n",
      "Confidence: 0.9999056\n",
      "Confidence: 0.9999056\n",
      "Confidence: 0.9998815\n",
      "Confidence: 0.99986696\n",
      "Confidence: 0.9998654\n",
      "Confidence: 0.9998654\n",
      "Confidence: 0.9998647\n",
      "Confidence: 0.9998647\n",
      "Confidence: 0.9998647\n",
      "Confidence: 0.9998646\n",
      "Confidence: 0.9998646\n",
      "Confidence: 0.9998646\n",
      "Confidence: 0.9998646\n",
      "Confidence: 0.99986446\n",
      "Confidence: 0.99986446\n",
      "Confidence: 0.99986446\n",
      "Confidence: 0.99986446\n",
      "Confidence: 0.99986446\n",
      "Confidence: 0.99986446\n",
      "Confidence: 0.99986446\n",
      "Confidence: 0.99986446\n",
      "Confidence: 0.99986446\n",
      "Confidence: 0.99986446\n",
      "Confidence: 0.99986446\n",
      "Confidence: 0.99986446\n",
      "Confidence: 0.99986446\n",
      "Confidence: 0.99986446\n",
      "Confidence: 0.99986446\n",
      "Confidence: 0.99986446\n"
     ]
    },
    {
     "data": {
      "image/png": "[encoded data removed]",
      "text/plain": [
       "<matplotlib.figure.Figure at 0x7fe6e7504240>"
      ]
     },
     "metadata": {},
     "output_type": "display_data"
    },
    {
     "name": "stdout",
     "output_type": "stream",
     "text": [
      "\n",
      "Iteration 2\n",
      "Attacking image 3358\n",
      "Confidence: 0.9909355\n",
      "Confidence: 0.982907\n",
      "Confidence: 0.98085004\n",
      "Confidence: 0.9601557\n",
      "Confidence: 0.9561567\n",
      "Confidence: 0.9561567\n",
      "Confidence: 0.9460796\n",
      "Confidence: 0.9460796\n",
      "Confidence: 0.9460796\n",
      "Confidence: 0.9460796\n",
      "Confidence: 0.9460796\n",
      "Confidence: 0.9460796\n",
      "Confidence: 0.9460796\n",
      "Confidence: 0.9460796\n",
      "Confidence: 0.9460796\n",
      "Confidence: 0.9460164\n",
      "Confidence: 0.9460164\n",
      "Confidence: 0.94596016\n",
      "Confidence: 0.94596016\n",
      "Confidence: 0.94596016\n",
      "Confidence: 0.94596016\n",
      "Confidence: 0.94596016\n",
      "Confidence: 0.94596016\n",
      "Confidence: 0.94596016\n",
      "Confidence: 0.94596016\n",
      "Confidence: 0.94596016\n",
      "Confidence: 0.94596016\n",
      "Confidence: 0.94596016\n",
      "Confidence: 0.94596016\n",
      "Confidence: 0.94596016\n"
     ]
    },
    {
     "data": {
      "image/png": "[encoded data removed]",
      "text/plain": [
       "<matplotlib.figure.Figure at 0x7fe6e7522c88>"
      ]
     },
     "metadata": {},
     "output_type": "display_data"
    },
    {
     "name": "stdout",
     "output_type": "stream",
     "text": [
      "\n",
      "Iteration 3\n",
      "Attacking image 8969\n",
      "Confidence: 0.9999987\n",
      "Confidence: 0.9999981\n",
      "Confidence: 0.9999976\n",
      "Confidence: 0.99999726\n",
      "Confidence: 0.99999726\n",
      "Confidence: 0.99999726\n",
      "Confidence: 0.99999726\n",
      "Confidence: 0.99999714\n",
      "Confidence: 0.99999714\n",
      "Confidence: 0.99999714\n",
      "Confidence: 0.99999714\n",
      "Confidence: 0.99999714\n",
      "Confidence: 0.99999714\n",
      "Confidence: 0.99999714\n",
      "Confidence: 0.99999714\n",
      "Confidence: 0.99999714\n",
      "Confidence: 0.99999714\n",
      "Confidence: 0.99999714\n",
      "Confidence: 0.99999714\n",
      "Confidence: 0.99999714\n",
      "Confidence: 0.99999714\n",
      "Confidence: 0.99999714\n",
      "Confidence: 0.99999714\n",
      "Confidence: 0.99999714\n",
      "Confidence: 0.99999714\n",
      "Confidence: 0.99999714\n",
      "Confidence: 0.99999714\n",
      "Confidence: 0.99999714\n",
      "Confidence: 0.99999714\n",
      "Confidence: 0.99999714\n"
     ]
    },
    {
     "data": {
      "image/png": "[encoded data removed]",
      "text/plain": [
       "<matplotlib.figure.Figure at 0x7fe6e74e8390>"
      ]
     },
     "metadata": {},
     "output_type": "display_data"
    },
    {
     "name": "stdout",
     "output_type": "stream",
     "text": [
      "\n",
      "Iteration 4\n",
      "Attacking image 242\n",
      "Confidence: 0.54335105\n",
      "Confidence: 0.45349857\n"
     ]
    },
    {
     "data": {
      "image/png": "[encoded data removed]",
      "text/plain": [
       "<matplotlib.figure.Figure at 0x7fe6e749cfd0>"
      ]
     },
     "metadata": {},
     "output_type": "display_data"
    },
    {
     "name": "stdout",
     "output_type": "stream",
     "text": [
      "\n",
      "Iteration 5\n",
      "Attacking image 8714\n",
      "Confidence: 0.99286133\n",
      "Confidence: 0.97499824\n",
      "Confidence: 0.9455835\n",
      "Confidence: 0.94273895\n",
      "Confidence: 0.94273895\n",
      "Confidence: 0.9341543\n",
      "Confidence: 0.9320416\n",
      "Confidence: 0.9317245\n",
      "Confidence: 0.9309782\n",
      "Confidence: 0.93060887\n",
      "Confidence: 0.93060887\n",
      "Confidence: 0.9305272\n",
      "Confidence: 0.9305272\n",
      "Confidence: 0.9305056\n",
      "Confidence: 0.9305056\n",
      "Confidence: 0.9305056\n",
      "Confidence: 0.9305056\n",
      "Confidence: 0.9305056\n",
      "Confidence: 0.9305056\n",
      "Confidence: 0.9305056\n",
      "Confidence: 0.9305056\n",
      "Confidence: 0.9305056\n",
      "Confidence: 0.9305056\n",
      "Confidence: 0.9305056\n",
      "Confidence: 0.9305056\n",
      "Confidence: 0.9305056\n",
      "Confidence: 0.9305056\n",
      "Confidence: 0.9305056\n",
      "Confidence: 0.9305056\n",
      "Confidence: 0.9305056\n"
     ]
    },
    {
     "data": {
      "image/png": "[encoded data removed]",
      "text/plain": [
       "<matplotlib.figure.Figure at 0x7fe6e745ae80>"
      ]
     },
     "metadata": {},
     "output_type": "display_data"
    },
    {
     "name": "stdout",
     "output_type": "stream",
     "text": [
      "\n",
      "Iteration 6\n",
      "Attacking image 1105\n",
      "Confidence: 0.00024960208\n"
     ]
    },
    {
     "data": {
      "image/png": "[encoded data removed]",
      "text/plain": [
       "<matplotlib.figure.Figure at 0x7fe6e7428f28>"
      ]
     },
     "metadata": {},
     "output_type": "display_data"
    },
    {
     "name": "stdout",
     "output_type": "stream",
     "text": [
      "\n",
      "Iteration 7\n",
      "Attacking image 6831\n",
      "Confidence: 0.9997042\n",
      "Confidence: 0.9997042\n",
      "Confidence: 0.99961436\n",
      "Confidence: 0.9995746\n",
      "Confidence: 0.9995683\n",
      "Confidence: 0.9995497\n",
      "Confidence: 0.9995448\n",
      "Confidence: 0.9995389\n",
      "Confidence: 0.9995353\n",
      "Confidence: 0.9995334\n",
      "Confidence: 0.999527\n",
      "Confidence: 0.999527\n",
      "Confidence: 0.999527\n",
      "Confidence: 0.999527\n",
      "Confidence: 0.999527\n",
      "Confidence: 0.999527\n",
      "Confidence: 0.999527\n",
      "Confidence: 0.999527\n",
      "Confidence: 0.999527\n",
      "Confidence: 0.999527\n",
      "Confidence: 0.999527\n",
      "Confidence: 0.999527\n",
      "Confidence: 0.999527\n",
      "Confidence: 0.999527\n",
      "Confidence: 0.999527\n",
      "Confidence: 0.999527\n",
      "Confidence: 0.999527\n",
      "Confidence: 0.999527\n",
      "Confidence: 0.999527\n",
      "Confidence: 0.999527\n"
     ]
    },
    {
     "data": {
      "image/png": "[encoded data removed]",
      "text/plain": [
       "<matplotlib.figure.Figure at 0x7fe6e73e7470>"
      ]
     },
     "metadata": {},
     "output_type": "display_data"
    },
    {
     "name": "stdout",
     "output_type": "stream",
     "text": [
      "\n",
      "Iteration 8\n",
      "Attacking image 8024\n",
      "Confidence: 0.9969797\n",
      "Confidence: 0.9962708\n",
      "Confidence: 0.99622774\n",
      "Confidence: 0.99622774\n",
      "Confidence: 0.9961045\n",
      "Confidence: 0.99596775\n",
      "Confidence: 0.9959099\n",
      "Confidence: 0.9959091\n",
      "Confidence: 0.99589396\n",
      "Confidence: 0.9958925\n",
      "Confidence: 0.9958722\n",
      "Confidence: 0.99587184\n",
      "Confidence: 0.99586934\n",
      "Confidence: 0.99586934\n",
      "Confidence: 0.99586934\n",
      "Confidence: 0.99586934\n",
      "Confidence: 0.99586934\n",
      "Confidence: 0.99586934\n",
      "Confidence: 0.99586934\n",
      "Confidence: 0.99586934\n",
      "Confidence: 0.99586934\n",
      "Confidence: 0.99586934\n",
      "Confidence: 0.99586934\n",
      "Confidence: 0.99586934\n",
      "Confidence: 0.99586934\n",
      "Confidence: 0.99586934\n"
     ]
    },
    {
     "name": "stderr",
     "output_type": "stream",
     "text": [
      "/home/hyper/Documents/anaconda3/lib/python3.6/site-packages/scipy/optimize/_differentialevolution.py:533: RuntimeWarning: divide by zero encountered in double_scalars\n",
      "  convergence=self.tol / convergence) is True):\n"
     ]
    },
    {
     "name": "stdout",
     "output_type": "stream",
     "text": [
      "Confidence: 0.99586934\n",
      "Confidence: 0.99586934\n",
      "Confidence: 0.99586934\n",
      "Confidence: 0.99586934\n"
     ]
    },
    {
     "data": {
      "image/png": "[encoded data removed]",
      "text/plain": [
       "<matplotlib.figure.Figure at 0x7fe6e73a5e48>"
      ]
     },
     "metadata": {},
     "output_type": "display_data"
    },
    {
     "name": "stdout",
     "output_type": "stream",
     "text": [
      "\n",
      "Iteration 9\n",
      "Attacking image 344\n",
      "Confidence: 0.99881387\n",
      "Confidence: 0.9986278\n",
      "Confidence: 0.9985953\n",
      "Confidence: 0.9985846\n",
      "Confidence: 0.99855906\n",
      "Confidence: 0.99855906\n",
      "Confidence: 0.99854076\n",
      "Confidence: 0.99854076\n",
      "Confidence: 0.9985404\n",
      "Confidence: 0.9985404\n",
      "Confidence: 0.9985399\n",
      "Confidence: 0.9985398\n",
      "Confidence: 0.9985398\n",
      "Confidence: 0.9985398\n",
      "Confidence: 0.9985398\n",
      "Confidence: 0.9985398\n",
      "Confidence: 0.9985398\n",
      "Confidence: 0.9985398\n",
      "Confidence: 0.9985398\n",
      "Confidence: 0.9985398\n",
      "Confidence: 0.9985398\n",
      "Confidence: 0.9985398\n",
      "Confidence: 0.9985398\n",
      "Confidence: 0.9985398\n",
      "Confidence: 0.9985398\n",
      "Confidence: 0.9985398\n",
      "Confidence: 0.9985398\n",
      "Confidence: 0.9985398\n",
      "Confidence: 0.9985398\n",
      "Confidence: 0.9985398\n"
     ]
    },
    {
     "data": {
      "image/png": "[encoded data removed]",
      "text/plain": [
       "<matplotlib.figure.Figure at 0x7fe6e735bf98>"
      ]
     },
     "metadata": {},
     "output_type": "display_data"
    },
    {
     "name": "stdout",
     "output_type": "stream",
     "text": [
      "\n",
      "Iteration 10\n",
      "Attacking image 8864\n",
      "Confidence: 0.9999962\n",
      "Confidence: 0.9999962\n",
      "Confidence: 0.9999962\n",
      "Confidence: 0.9999962\n",
      "Confidence: 0.9999962\n",
      "Confidence: 0.9999957\n",
      "Confidence: 0.9999956\n",
      "Confidence: 0.9999932\n",
      "Confidence: 0.9999919\n",
      "Confidence: 0.9999914\n",
      "Confidence: 0.9999912\n",
      "Confidence: 0.9999912\n",
      "Confidence: 0.9999912\n",
      "Confidence: 0.99999106\n",
      "Confidence: 0.99999106\n",
      "Confidence: 0.99999106\n",
      "Confidence: 0.99999106\n",
      "Confidence: 0.99999106\n",
      "Confidence: 0.99999106\n",
      "Confidence: 0.99999106\n",
      "Confidence: 0.99999106\n",
      "Confidence: 0.99999106\n",
      "Confidence: 0.99999106\n",
      "Confidence: 0.99999106\n",
      "Confidence: 0.99999106\n",
      "Confidence: 0.99999106\n",
      "Confidence: 0.99999106\n",
      "Confidence: 0.99999106\n",
      "Confidence: 0.99999106\n",
      "Confidence: 0.99999106\n"
     ]
    },
    {
     "data": {
      "image/png": "[encoded data removed]",
      "text/plain": [
       "<matplotlib.figure.Figure at 0x7fe6e7318e10>"
      ]
     },
     "metadata": {},
     "output_type": "display_data"
    },
    {
     "name": "stdout",
     "output_type": "stream",
     "text": [
      "\n",
      "Iteration 11\n",
      "Attacking image 8530\n",
      "Confidence: 0.99997306\n",
      "Confidence: 0.99994195\n",
      "Confidence: 0.99991906\n",
      "Confidence: 0.99991906\n",
      "Confidence: 0.99989927\n",
      "Confidence: 0.99985075\n",
      "Confidence: 0.9998468\n",
      "Confidence: 0.9998468\n",
      "Confidence: 0.9998424\n",
      "Confidence: 0.99984217\n",
      "Confidence: 0.999841\n",
      "Confidence: 0.99984026\n",
      "Confidence: 0.99984026\n",
      "Confidence: 0.99984026\n",
      "Confidence: 0.99984026\n",
      "Confidence: 0.99984026\n",
      "Confidence: 0.99984026\n",
      "Confidence: 0.99984026\n",
      "Confidence: 0.99984026\n",
      "Confidence: 0.99984026\n",
      "Confidence: 0.99984026\n",
      "Confidence: 0.99984026\n",
      "Confidence: 0.99984026\n",
      "Confidence: 0.99984026\n",
      "Confidence: 0.99984026\n",
      "Confidence: 0.99984026\n",
      "Confidence: 0.99984026\n",
      "Confidence: 0.99984026\n",
      "Confidence: 0.99984026\n",
      "Confidence: 0.99984026\n"
     ]
    },
    {
     "data": {
      "image/png": "[encoded data removed]",
      "text/plain": [
       "<matplotlib.figure.Figure at 0x7fe6e72e6898>"
      ]
     },
     "metadata": {},
     "output_type": "display_data"
    },
    {
     "name": "stdout",
     "output_type": "stream",
     "text": [
      "\n",
      "Iteration 12\n",
      "Attacking image 6426\n",
      "Confidence: 0.9999981\n",
      "Confidence: 0.9999981\n",
      "Confidence: 0.9999981\n",
      "Confidence: 0.9999981\n",
      "Confidence: 0.9999981\n",
      "Confidence: 0.99999785\n",
      "Confidence: 0.9999975\n",
      "Confidence: 0.9999974\n",
      "Confidence: 0.9999974\n",
      "Confidence: 0.9999974\n",
      "Confidence: 0.9999974\n",
      "Confidence: 0.9999974\n",
      "Confidence: 0.9999974\n",
      "Confidence: 0.9999974\n",
      "Confidence: 0.9999974\n",
      "Confidence: 0.9999974\n",
      "Confidence: 0.9999974\n",
      "Confidence: 0.9999974\n",
      "Confidence: 0.9999974\n",
      "Confidence: 0.9999974\n",
      "Confidence: 0.9999974\n",
      "Confidence: 0.9999974\n",
      "Confidence: 0.9999974\n",
      "Confidence: 0.9999974\n",
      "Confidence: 0.9999974\n",
      "Confidence: 0.9999974\n",
      "Confidence: 0.9999974\n",
      "Confidence: 0.9999974\n",
      "Confidence: 0.9999974\n",
      "Confidence: 0.9999974\n"
     ]
    },
    {
     "data": {
      "image/png": "[encoded data removed]",
      "text/plain": [
       "<matplotlib.figure.Figure at 0x7fe6e72a4f60>"
      ]
     },
     "metadata": {},
     "output_type": "display_data"
    },
    {
     "name": "stdout",
     "output_type": "stream",
     "text": [
      "\n",
      "Iteration 13\n",
      "Attacking image 721\n",
      "Confidence: 0.99868435\n",
      "Confidence: 0.99830973\n",
      "Confidence: 0.99818915\n",
      "Confidence: 0.998054\n",
      "Confidence: 0.9979651\n",
      "Confidence: 0.9979468\n",
      "Confidence: 0.9979371\n",
      "Confidence: 0.9979371\n",
      "Confidence: 0.9979321\n",
      "Confidence: 0.9979321\n",
      "Confidence: 0.9979321\n",
      "Confidence: 0.9979315\n",
      "Confidence: 0.9979315\n",
      "Confidence: 0.9979315\n",
      "Confidence: 0.99793136\n",
      "Confidence: 0.99793136\n",
      "Confidence: 0.99793136\n",
      "Confidence: 0.99793136\n",
      "Confidence: 0.99793136\n",
      "Confidence: 0.99793136\n",
      "Confidence: 0.99793136\n",
      "Confidence: 0.99793136\n",
      "Confidence: 0.99793136\n",
      "Confidence: 0.99793136\n",
      "Confidence: 0.99793136\n",
      "Confidence: 0.99793136\n",
      "Confidence: 0.99793136\n",
      "Confidence: 0.99793136\n",
      "Confidence: 0.99793136\n",
      "Confidence: 0.99793136\n"
     ]
    },
    {
     "data": {
      "image/png": "[encoded data removed]",
      "text/plain": [
       "<matplotlib.figure.Figure at 0x7fe6e72660f0>"
      ]
     },
     "metadata": {},
     "output_type": "display_data"
    },
    {
     "name": "stdout",
     "output_type": "stream",
     "text": [
      "\n",
      "Iteration 14\n",
      "Attacking image 7692\n",
      "Confidence: 0.9999124\n",
      "Confidence: 0.99991226\n",
      "Confidence: 0.9998944\n",
      "Confidence: 0.9998808\n",
      "Confidence: 0.9997814\n",
      "Confidence: 0.9997814\n",
      "Confidence: 0.9997745\n",
      "Confidence: 0.9997664\n",
      "Confidence: 0.99976236\n",
      "Confidence: 0.99975115\n",
      "Confidence: 0.999747\n",
      "Confidence: 0.99974376\n",
      "Confidence: 0.99974376\n",
      "Confidence: 0.99974364\n",
      "Confidence: 0.99974364\n",
      "Confidence: 0.9997435\n",
      "Confidence: 0.9997435\n",
      "Confidence: 0.9997435\n",
      "Confidence: 0.9997435\n",
      "Confidence: 0.9997435\n",
      "Confidence: 0.9997435\n",
      "Confidence: 0.9997435\n",
      "Confidence: 0.9997435\n",
      "Confidence: 0.9997435\n",
      "Confidence: 0.9997435\n",
      "Confidence: 0.9997435\n",
      "Confidence: 0.9997435\n",
      "Confidence: 0.9997435\n",
      "Confidence: 0.9997435\n",
      "Confidence: 0.9997435\n"
     ]
    },
    {
     "data": {
      "image/png": "[encoded data removed]",
      "text/plain": [
       "<matplotlib.figure.Figure at 0x7fe6e721aa90>"
      ]
     },
     "metadata": {},
     "output_type": "display_data"
    },
    {
     "name": "stdout",
     "output_type": "stream",
     "text": [
      "\n",
      "Iteration 15\n",
      "Attacking image 6214\n",
      "Confidence: 0.9986266\n",
      "Confidence: 0.9986148\n",
      "Confidence: 0.9985884\n",
      "Confidence: 0.9983443\n",
      "Confidence: 0.9982015\n",
      "Confidence: 0.9981974\n",
      "Confidence: 0.9981974\n",
      "Confidence: 0.99818736\n",
      "Confidence: 0.9981667\n",
      "Confidence: 0.9981667\n",
      "Confidence: 0.9981633\n",
      "Confidence: 0.9981528\n",
      "Confidence: 0.9981528\n",
      "Confidence: 0.9981528\n",
      "Confidence: 0.9981528\n",
      "Confidence: 0.99815243\n",
      "Confidence: 0.99815243\n",
      "Confidence: 0.99815243\n",
      "Confidence: 0.99815243\n",
      "Confidence: 0.99815243\n",
      "Confidence: 0.99815243\n",
      "Confidence: 0.99815243\n",
      "Confidence: 0.99815243\n",
      "Confidence: 0.99815243\n",
      "Confidence: 0.99815243\n",
      "Confidence: 0.99815243\n",
      "Confidence: 0.99815243\n",
      "Confidence: 0.99815243\n",
      "Confidence: 0.99815243\n",
      "Confidence: 0.99815243\n"
     ]
    },
    {
     "data": {
      "image/png": "[encoded data removed]",
      "text/plain": [
       "<matplotlib.figure.Figure at 0x7fe6e71d7da0>"
      ]
     },
     "metadata": {},
     "output_type": "display_data"
    },
    {
     "name": "stdout",
     "output_type": "stream",
     "text": [
      "\n",
      "Iteration 16\n",
      "Attacking image 3143\n",
      "Confidence: 0.99998605\n",
      "Confidence: 0.99998605\n",
      "Confidence: 0.99998605\n",
      "Confidence: 0.9999838\n",
      "Confidence: 0.99998295\n",
      "Confidence: 0.99998295\n",
      "Confidence: 0.99998295\n",
      "Confidence: 0.99998295\n",
      "Confidence: 0.99998295\n",
      "Confidence: 0.99998295\n",
      "Confidence: 0.99998295\n",
      "Confidence: 0.99998295\n",
      "Confidence: 0.99998295\n",
      "Confidence: 0.99998295\n",
      "Confidence: 0.99998295\n",
      "Confidence: 0.99998295\n",
      "Confidence: 0.99998295\n",
      "Confidence: 0.99998295\n",
      "Confidence: 0.99998295\n",
      "Confidence: 0.99998295\n",
      "Confidence: 0.99998295\n",
      "Confidence: 0.99998295\n",
      "Confidence: 0.99998295\n",
      "Confidence: 0.99998295\n",
      "Confidence: 0.99998295\n",
      "Confidence: 0.99998295\n",
      "Confidence: 0.99998295\n",
      "Confidence: 0.99998295\n",
      "Confidence: 0.99998295\n",
      "Confidence: 0.99998295\n"
     ]
    },
    {
     "data": {
      "image/png": "[encoded data removed]",
      "text/plain": [
       "<matplotlib.figure.Figure at 0x7fe6e71a61d0>"
      ]
     },
     "metadata": {},
     "output_type": "display_data"
    },
    {
     "name": "stdout",
     "output_type": "stream",
     "text": [
      "\n",
      "Iteration 17\n",
      "Attacking image 6559\n",
      "Confidence: 0.27595958\n"
     ]
    },
    {
     "data": {
      "image/png": "[encoded data removed]",
      "text/plain": [
       "<matplotlib.figure.Figure at 0x7fe6e7161978>"
      ]
     },
     "metadata": {},
     "output_type": "display_data"
    },
    {
     "name": "stdout",
     "output_type": "stream",
     "text": [
      "\n",
      "Iteration 18\n",
      "Attacking image 6175\n",
      "Confidence: 0.8414955\n",
      "Confidence: 0.8111938\n",
      "Confidence: 0.7769272\n",
      "Confidence: 0.7652893\n",
      "Confidence: 0.74418306\n",
      "Confidence: 0.74418306\n",
      "Confidence: 0.74418306\n",
      "Confidence: 0.74342304\n",
      "Confidence: 0.7423668\n",
      "Confidence: 0.7411415\n",
      "Confidence: 0.7409872\n",
      "Confidence: 0.74055856\n",
      "Confidence: 0.74055856\n",
      "Confidence: 0.74050784\n",
      "Confidence: 0.74050784\n",
      "Confidence: 0.74050784\n",
      "Confidence: 0.74050784\n",
      "Confidence: 0.74050784\n",
      "Confidence: 0.74050784\n",
      "Confidence: 0.74050784\n",
      "Confidence: 0.74050784\n",
      "Confidence: 0.74050784\n",
      "Confidence: 0.74050784\n",
      "Confidence: 0.74050784\n",
      "Confidence: 0.74050784\n",
      "Confidence: 0.74050784\n",
      "Confidence: 0.74050784\n",
      "Confidence: 0.74050784\n",
      "Confidence: 0.74050784\n",
      "Confidence: 0.74050784\n"
     ]
    },
    {
     "data": {
      "image/png": "[encoded data removed]",
      "text/plain": [
       "<matplotlib.figure.Figure at 0x7fe6e711c7f0>"
      ]
     },
     "metadata": {},
     "output_type": "display_data"
    },
    {
     "name": "stdout",
     "output_type": "stream",
     "text": [
      "\n",
      "Iteration 19\n",
      "Attacking image 6330\n",
      "Confidence: 0.9997459\n",
      "Confidence: 0.9997459\n",
      "Confidence: 0.9996911\n",
      "Confidence: 0.99960023\n",
      "Confidence: 0.99960023\n",
      "Confidence: 0.99960023\n",
      "Confidence: 0.99958163\n",
      "Confidence: 0.99958163\n",
      "Confidence: 0.9995757\n",
      "Confidence: 0.99957496\n",
      "Confidence: 0.99957377\n",
      "Confidence: 0.9995696\n",
      "Confidence: 0.99956924\n",
      "Confidence: 0.9995691\n",
      "Confidence: 0.999569\n",
      "Confidence: 0.999569\n",
      "Confidence: 0.999569\n",
      "Confidence: 0.999569\n",
      "Confidence: 0.999569\n",
      "Confidence: 0.999569\n",
      "Confidence: 0.999569\n",
      "Confidence: 0.999569\n",
      "Confidence: 0.999569\n",
      "Confidence: 0.999569\n",
      "Confidence: 0.999569\n",
      "Confidence: 0.999569\n",
      "Confidence: 0.999569\n",
      "Confidence: 0.999569\n",
      "Confidence: 0.999569\n",
      "Confidence: 0.999569\n"
     ]
    },
    {
     "data": {
      "image/png": "[encoded data removed]",
      "text/plain": [
       "<matplotlib.figure.Figure at 0x7fe6e70dbcc0>"
      ]
     },
     "metadata": {},
     "output_type": "display_data"
    },
    {
     "name": "stdout",
     "output_type": "stream",
     "text": [
      "\n",
      "Iteration 20\n",
      "Attacking image 7021\n",
      "Confidence: 0.9890633\n",
      "Confidence: 0.9876973\n",
      "Confidence: 0.9702526\n",
      "Confidence: 0.9702526\n",
      "Confidence: 0.96696603\n",
      "Confidence: 0.96194935\n",
      "Confidence: 0.96072656\n",
      "Confidence: 0.96048695\n",
      "Confidence: 0.9600179\n",
      "Confidence: 0.9600179\n",
      "Confidence: 0.9600179\n",
      "Confidence: 0.95919573\n",
      "Confidence: 0.95919573\n",
      "Confidence: 0.95919573\n",
      "Confidence: 0.95919573\n",
      "Confidence: 0.95919573\n",
      "Confidence: 0.9591738\n",
      "Confidence: 0.9591696\n",
      "Confidence: 0.9591696\n",
      "Confidence: 0.9591666\n",
      "Confidence: 0.9591666\n",
      "Confidence: 0.9591666\n",
      "Confidence: 0.9591666\n",
      "Confidence: 0.9591666\n",
      "Confidence: 0.9591666\n",
      "Confidence: 0.9591666\n",
      "Confidence: 0.9591666\n",
      "Confidence: 0.9591666\n",
      "Confidence: 0.9591666\n",
      "Confidence: 0.9591666\n"
     ]
    },
    {
     "data": {
      "image/png": "[encoded data removed]",
      "text/plain": [
       "<matplotlib.figure.Figure at 0x7fe6e7096f98>"
      ]
     },
     "metadata": {},
     "output_type": "display_data"
    },
    {
     "name": "stdout",
     "output_type": "stream",
     "text": [
      "\n",
      "Iteration 21\n",
      "Attacking image 3379\n",
      "Confidence: 0.9973694\n",
      "Confidence: 0.9968912\n",
      "Confidence: 0.9930038\n",
      "Confidence: 0.9920923\n",
      "Confidence: 0.99077374\n",
      "Confidence: 0.99077374\n",
      "Confidence: 0.99077374\n",
      "Confidence: 0.99077374\n",
      "Confidence: 0.977099\n",
      "Confidence: 0.9760243\n",
      "Confidence: 0.97434956\n",
      "Confidence: 0.96266973\n",
      "Confidence: 0.95842606\n",
      "Confidence: 0.95842606\n",
      "Confidence: 0.9569971\n",
      "Confidence: 0.9569971\n",
      "Confidence: 0.9552101\n",
      "Confidence: 0.9552101\n",
      "Confidence: 0.9537646\n",
      "Confidence: 0.95340985\n",
      "Confidence: 0.95340985\n",
      "Confidence: 0.95340985\n",
      "Confidence: 0.95340985\n",
      "Confidence: 0.95340985\n",
      "Confidence: 0.95340985\n",
      "Confidence: 0.95340985\n",
      "Confidence: 0.95340985\n",
      "Confidence: 0.95340985\n",
      "Confidence: 0.95340985\n",
      "Confidence: 0.95340985\n"
     ]
    },
    {
     "data": {
      "image/png": "[encoded data removed]",
      "text/plain": [
       "<matplotlib.figure.Figure at 0x7fe6e7066ac8>"
      ]
     },
     "metadata": {},
     "output_type": "display_data"
    },
    {
     "name": "stdout",
     "output_type": "stream",
     "text": [
      "\n",
      "Iteration 22\n",
      "Attacking image 1259\n",
      "Confidence: 0.99932027\n",
      "Confidence: 0.99932027\n",
      "Confidence: 0.99932027\n",
      "Confidence: 0.99915874\n",
      "Confidence: 0.99445844\n",
      "Confidence: 0.99433315\n",
      "Confidence: 0.99404305\n",
      "Confidence: 0.9928598\n",
      "Confidence: 0.9924401\n",
      "Confidence: 0.9924401\n",
      "Confidence: 0.9920853\n",
      "Confidence: 0.9920853\n",
      "Confidence: 0.99205387\n",
      "Confidence: 0.991954\n",
      "Confidence: 0.991954\n",
      "Confidence: 0.991954\n",
      "Confidence: 0.991954\n",
      "Confidence: 0.991954\n",
      "Confidence: 0.991954\n",
      "Confidence: 0.99195147\n",
      "Confidence: 0.99195147\n",
      "Confidence: 0.99195147\n",
      "Confidence: 0.99195147\n",
      "Confidence: 0.99195147\n",
      "Confidence: 0.99195147\n",
      "Confidence: 0.99195147\n",
      "Confidence: 0.99195147\n",
      "Confidence: 0.99195147\n",
      "Confidence: 0.99195147\n",
      "Confidence: 0.99195147\n"
     ]
    },
    {
     "data": {
      "image/png": "[encoded data removed]",
      "text/plain": [
       "<matplotlib.figure.Figure at 0x7fe6e7024c50>"
      ]
     },
     "metadata": {},
     "output_type": "display_data"
    },
    {
     "name": "stdout",
     "output_type": "stream",
     "text": [
      "\n",
      "Iteration 23\n",
      "Attacking image 5683\n",
      "Confidence: 0.9999435\n",
      "Confidence: 0.9999224\n",
      "Confidence: 0.9999224\n",
      "Confidence: 0.9999187\n",
      "Confidence: 0.9999187\n",
      "Confidence: 0.99991786\n",
      "Confidence: 0.99991786\n",
      "Confidence: 0.99991786\n",
      "Confidence: 0.9999176\n",
      "Confidence: 0.9999168\n",
      "Confidence: 0.9999168\n",
      "Confidence: 0.9999168\n",
      "Confidence: 0.9999167\n",
      "Confidence: 0.9999167\n",
      "Confidence: 0.9999167\n",
      "Confidence: 0.9999167\n",
      "Confidence: 0.9999167\n",
      "Confidence: 0.9999167\n",
      "Confidence: 0.9999167\n",
      "Confidence: 0.9999167\n",
      "Confidence: 0.9999167\n",
      "Confidence: 0.9999167\n",
      "Confidence: 0.9999167\n",
      "Confidence: 0.9999167\n",
      "Confidence: 0.9999167\n",
      "Confidence: 0.9999167\n",
      "Confidence: 0.9999167\n",
      "Confidence: 0.9999167\n",
      "Confidence: 0.9999167\n",
      "Confidence: 0.9999167\n"
     ]
    },
    {
     "data": {
      "image/png": "[encoded data removed]",
      "text/plain": [
       "<matplotlib.figure.Figure at 0x7fe6e6fdbcc0>"
      ]
     },
     "metadata": {},
     "output_type": "display_data"
    },
    {
     "name": "stdout",
     "output_type": "stream",
     "text": [
      "\n",
      "Iteration 24\n",
      "Attacking image 7726\n",
      "Confidence: 0.999954\n",
      "Confidence: 0.99993396\n",
      "Confidence: 0.99990964\n",
      "Confidence: 0.9998523\n",
      "Confidence: 0.9998349\n",
      "Confidence: 0.9998223\n",
      "Confidence: 0.9998223\n",
      "Confidence: 0.9998223\n",
      "Confidence: 0.99982053\n",
      "Confidence: 0.9998204\n",
      "Confidence: 0.99982005\n",
      "Confidence: 0.99981993\n",
      "Confidence: 0.99981993\n",
      "Confidence: 0.99981993\n",
      "Confidence: 0.99981993\n",
      "Confidence: 0.99981993\n",
      "Confidence: 0.99981993\n",
      "Confidence: 0.99981993\n",
      "Confidence: 0.99981993\n",
      "Confidence: 0.99981993\n",
      "Confidence: 0.99981993\n",
      "Confidence: 0.99981993\n",
      "Confidence: 0.99981993\n",
      "Confidence: 0.99981993\n",
      "Confidence: 0.99981993\n",
      "Confidence: 0.99981993\n",
      "Confidence: 0.99981993\n",
      "Confidence: 0.99981993\n",
      "Confidence: 0.99981993\n",
      "Confidence: 0.99981993\n"
     ]
    },
    {
     "data": {
      "image/png": "[encoded data removed]",
      "text/plain": [
       "<matplotlib.figure.Figure at 0x7fe6e6f2f128>"
      ]
     },
     "metadata": {},
     "output_type": "display_data"
    },
    {
     "name": "stdout",
     "output_type": "stream",
     "text": [
      "\n",
      "Iteration 25\n",
      "Attacking image 759\n"
     ]
    }
   ],
   "source": [
    "untargeted_results = attack_untargeted(wide_resnet)"
   ]
  },
  {
   "cell_type": "code",
   "execution_count": 45,
   "metadata": {},
   "outputs": [
    {
     "data": {
      "text/html": [
       "<div>\n",
       "<style>\n",
       "    .dataframe thead tr:only-child th {\n",
       "        text-align: right;\n",
       "    }\n",
       "\n",
       "    .dataframe thead th {\n",
       "        text-align: left;\n",
       "    }\n",
       "\n",
       "    .dataframe tbody tr th {\n",
       "        vertical-align: top;\n",
       "    }\n",
       "</style>\n",
       "<table border=\"1\" class=\"dataframe\">\n",
       "  <thead>\n",
       "    <tr style=\"text-align: right;\">\n",
       "      <th></th>\n",
       "      <th>image_index</th>\n",
       "      <th>true_class</th>\n",
       "      <th>predicted_class</th>\n",
       "      <th>success</th>\n",
       "      <th>predicted_probs</th>\n",
       "      <th>attack_image</th>\n",
       "    </tr>\n",
       "  </thead>\n",
       "  <tbody>\n",
       "    <tr>\n",
       "      <th>0</th>\n",
       "      <td>6434</td>\n",
       "      <td>0</td>\n",
       "      <td>0</td>\n",
       "      <td>False</td>\n",
       "      <td>[0.93864465, 0.0014470723, 9.012594e-05, 6.175...</td>\n",
       "      <td>[[[98, 166, 189], [101, 168, 191], [105, 173, ...</td>\n",
       "    </tr>\n",
       "    <tr>\n",
       "      <th>1</th>\n",
       "      <td>848</td>\n",
       "      <td>2</td>\n",
       "      <td>2</td>\n",
       "      <td>False</td>\n",
       "      <td>[0.37613243, 0.0012377605, 0.61433303, 0.00294...</td>\n",
       "      <td>[[[80, 80, 70], [76, 73, 64], [73, 69, 60], [8...</td>\n",
       "    </tr>\n",
       "    <tr>\n",
       "      <th>2</th>\n",
       "      <td>6620</td>\n",
       "      <td>7</td>\n",
       "      <td>7</td>\n",
       "      <td>False</td>\n",
       "      <td>[3.4860837e-05, 2.2225837e-05, 2.4331144e-05, ...</td>\n",
       "      <td>[[[7, 7, 9], [4, 3, 5], [4, 4, 6], [6, 6, 8], ...</td>\n",
       "    </tr>\n",
       "  </tbody>\n",
       "</table>\n",
       "</div>"
      ],
      "text/plain": [
       "   image_index  true_class  predicted_class  success  \\\n",
       "0         6434           0                0    False   \n",
       "1          848           2                2    False   \n",
       "2         6620           7                7    False   \n",
       "\n",
       "                                     predicted_probs  \\\n",
       "0  [0.93864465, 0.0014470723, 9.012594e-05, 6.175...   \n",
       "1  [0.37613243, 0.0012377605, 0.61433303, 0.00294...   \n",
       "2  [3.4860837e-05, 2.2225837e-05, 2.4331144e-05, ...   \n",
       "\n",
       "                                        attack_image  \n",
       "0  [[[98, 166, 189], [101, 168, 191], [105, 173, ...  \n",
       "1  [[[80, 80, 70], [76, 73, 64], [73, 69, 60], [8...  \n",
       "2  [[[7, 7, 9], [4, 3, 5], [4, 4, 6], [6, 6, 8], ...  "
      ]
     },
     "execution_count": 45,
     "metadata": {},
     "output_type": "execute_result"
    }
   ],
   "source": [
    "untargeted_results"
   ]
  },
  {
   "cell_type": "markdown",
   "metadata": {},
   "source": [
    "### Targeted Attack"
   ]
  },
  {
   "cell_type": "code",
   "execution_count": 65,
   "metadata": {},
   "outputs": [],
   "source": [
    "def attack_targeted(model, pixel_count=1, sample_count=100, iterations=30,\n",
    "                      population=100, mutation=0.5, recombination=1, \n",
    "                      stop_threshold=-0.01, callback=None):\n",
    "    samples = np.random.choice(len(x_test), sample_count)\n",
    "    \n",
    "    results = []\n",
    "    for i,img in enumerate(samples):\n",
    "        print()\n",
    "        print('Iteration', i)\n",
    "        for target in range(10):\n",
    "            if target == y_test[img]:\n",
    "                continue\n",
    "            print()\n",
    "            print('Attacking image', img, 'with target', target, class_names[target])\n",
    "            \n",
    "            actual_class = y_test[img][0]\n",
    "        \n",
    "            plot_image(x_test[img], actual_class, class_names)\n",
    "            \n",
    "            args = x_test[img], target, model\n",
    "            bounds = [(0,32), (0,32), (0,256), (0,256), (0,256)] * pixel_count\n",
    "            attack = predict_targeted\n",
    "\n",
    "            res = differential_evolution(attack, bounds, args=args, maxiter=iterations, popsize=population, mutation=0.5, recombination=0.5, atol=stop_threshold, disp=True)\n",
    "\n",
    "            attack_image = perturb_image(res.x, x_test[img])\n",
    "            predicted_probs = model.predict(attack_image)\n",
    "            predicted_class = np.argmax(predicted_probs)\n",
    "            \n",
    "            plot_image(attack_image, actual_class, class_names, predicted_class)\n",
    "\n",
    "            result = img, predicted_class, actual_class, predicted_probs, attack_image\n",
    "            results.append(result)\n",
    "        \n",
    "    return results"
   ]
  },
  {
   "cell_type": "code",
   "execution_count": null,
   "metadata": {
    "collapsed": true
   },
   "outputs": [],
   "source": [
    "def untargeted_callback(xk, convergence):\n",
    "    print(xk)"
   ]
  },
  {
   "cell_type": "code",
   "execution_count": 66,
   "metadata": {},
   "outputs": [
    {
     "name": "stdout",
     "output_type": "stream",
     "text": [
      "Targeting model wide_resnet\n",
      "Attacking image 6521 with target 0 airplane\n"
     ]
    },
    {
     "data": {
      "image/png": "[encoded data removed]",
      "text/plain": [
       "<matplotlib.figure.Figure at 0x7fb3f86b8208>"
      ]
     },
     "metadata": {},
     "output_type": "display_data"
    },
    {
     "name": "stdout",
     "output_type": "stream",
     "text": [
      "differential_evolution step 1: f(x)= 0.999988\n",
      "differential_evolution step 2: f(x)= 0.999985\n",
      "differential_evolution step 3: f(x)= 0.999982\n",
      "differential_evolution step 4: f(x)= 0.999944\n",
      "differential_evolution step 5: f(x)= 0.999944\n",
      "differential_evolution step 6: f(x)= 0.999944\n"
     ]
    },
    {
     "ename": "KeyboardInterrupt",
     "evalue": "",
     "output_type": "error",
     "traceback": [
      "\u001b[0;31m---------------------------------------------------------------------------\u001b[0m",
      "\u001b[0;31mKeyboardInterrupt\u001b[0m                         Traceback (most recent call last)",
      "\u001b[0;32m<ipython-input-66-de5f89c99dde>\u001b[0m in \u001b[0;36m<module>\u001b[0;34m()\u001b[0m\n\u001b[0;32m----> 1\u001b[0;31m \u001b[0mattack_targeted\u001b[0m\u001b[0;34m(\u001b[0m\u001b[0mmodels\u001b[0m\u001b[0;34m[\u001b[0m\u001b[0;36m0\u001b[0m\u001b[0;34m]\u001b[0m\u001b[0;34m)\u001b[0m\u001b[0;34m\u001b[0m\u001b[0m\n\u001b[0m",
      "\u001b[0;32m<ipython-input-65-f823e6c91932>\u001b[0m in \u001b[0;36mattack_targeted\u001b[0;34m(model, pixel_count, sample_count)\u001b[0m\n\u001b[1;32m     18\u001b[0m             \u001b[0mattack\u001b[0m \u001b[0;34m=\u001b[0m \u001b[0mpredict_targeted\u001b[0m\u001b[0;34m\u001b[0m\u001b[0m\n\u001b[1;32m     19\u001b[0m \u001b[0;34m\u001b[0m\u001b[0m\n\u001b[0;32m---> 20\u001b[0;31m             \u001b[0mres\u001b[0m \u001b[0;34m=\u001b[0m \u001b[0mdifferential_evolution\u001b[0m\u001b[0;34m(\u001b[0m\u001b[0mattack\u001b[0m\u001b[0;34m,\u001b[0m \u001b[0mbounds\u001b[0m\u001b[0;34m,\u001b[0m \u001b[0margs\u001b[0m\u001b[0;34m=\u001b[0m\u001b[0margs\u001b[0m\u001b[0;34m,\u001b[0m \u001b[0mmaxiter\u001b[0m\u001b[0;34m=\u001b[0m\u001b[0miterations\u001b[0m\u001b[0;34m,\u001b[0m \u001b[0mpopsize\u001b[0m\u001b[0;34m=\u001b[0m\u001b[0mpopulation\u001b[0m\u001b[0;34m,\u001b[0m \u001b[0mmutation\u001b[0m\u001b[0;34m=\u001b[0m\u001b[0;36m0.5\u001b[0m\u001b[0;34m,\u001b[0m \u001b[0mrecombination\u001b[0m\u001b[0;34m=\u001b[0m\u001b[0;36m0.5\u001b[0m\u001b[0;34m,\u001b[0m \u001b[0matol\u001b[0m\u001b[0;34m=\u001b[0m\u001b[0mstop_threshold\u001b[0m\u001b[0;34m,\u001b[0m \u001b[0mdisp\u001b[0m\u001b[0;34m=\u001b[0m\u001b[0;32mTrue\u001b[0m\u001b[0;34m)\u001b[0m\u001b[0;34m\u001b[0m\u001b[0m\n\u001b[0m\u001b[1;32m     21\u001b[0m \u001b[0;34m\u001b[0m\u001b[0m\n\u001b[1;32m     22\u001b[0m             \u001b[0mattack_image\u001b[0m \u001b[0;34m=\u001b[0m \u001b[0mperturb_image\u001b[0m\u001b[0;34m(\u001b[0m\u001b[0mres\u001b[0m\u001b[0;34m.\u001b[0m\u001b[0mx\u001b[0m\u001b[0;34m,\u001b[0m \u001b[0mx_test\u001b[0m\u001b[0;34m[\u001b[0m\u001b[0mimg\u001b[0m\u001b[0;34m]\u001b[0m\u001b[0;34m)\u001b[0m\u001b[0;34m\u001b[0m\u001b[0m\n",
      "\u001b[0;32m~/Documents/anaconda3/lib/python3.6/site-packages/scipy/optimize/_differentialevolution.py\u001b[0m in \u001b[0;36mdifferential_evolution\u001b[0;34m(func, bounds, args, strategy, maxiter, popsize, tol, mutation, recombination, seed, callback, disp, polish, init, atol)\u001b[0m\n\u001b[1;32m    211\u001b[0m                                          \u001b[0mcallback\u001b[0m\u001b[0;34m=\u001b[0m\u001b[0mcallback\u001b[0m\u001b[0;34m,\u001b[0m\u001b[0;34m\u001b[0m\u001b[0m\n\u001b[1;32m    212\u001b[0m                                          disp=disp, init=init, atol=atol)\n\u001b[0;32m--> 213\u001b[0;31m     \u001b[0;32mreturn\u001b[0m \u001b[0msolver\u001b[0m\u001b[0;34m.\u001b[0m\u001b[0msolve\u001b[0m\u001b[0;34m(\u001b[0m\u001b[0;34m)\u001b[0m\u001b[0;34m\u001b[0m\u001b[0m\n\u001b[0m\u001b[1;32m    214\u001b[0m \u001b[0;34m\u001b[0m\u001b[0m\n\u001b[1;32m    215\u001b[0m \u001b[0;34m\u001b[0m\u001b[0m\n",
      "\u001b[0;32m~/Documents/anaconda3/lib/python3.6/site-packages/scipy/optimize/_differentialevolution.py\u001b[0m in \u001b[0;36msolve\u001b[0;34m(self)\u001b[0m\n\u001b[1;32m    515\u001b[0m             \u001b[0;31m# evolve the population by a generation\u001b[0m\u001b[0;34m\u001b[0m\u001b[0;34m\u001b[0m\u001b[0m\n\u001b[1;32m    516\u001b[0m             \u001b[0;32mtry\u001b[0m\u001b[0;34m:\u001b[0m\u001b[0;34m\u001b[0m\u001b[0m\n\u001b[0;32m--> 517\u001b[0;31m                 \u001b[0mnext\u001b[0m\u001b[0;34m(\u001b[0m\u001b[0mself\u001b[0m\u001b[0;34m)\u001b[0m\u001b[0;34m\u001b[0m\u001b[0m\n\u001b[0m\u001b[1;32m    518\u001b[0m             \u001b[0;32mexcept\u001b[0m \u001b[0mStopIteration\u001b[0m\u001b[0;34m:\u001b[0m\u001b[0;34m\u001b[0m\u001b[0m\n\u001b[1;32m    519\u001b[0m                 \u001b[0mwarning_flag\u001b[0m \u001b[0;34m=\u001b[0m \u001b[0;32mTrue\u001b[0m\u001b[0;34m\u001b[0m\u001b[0m\n",
      "\u001b[0;32m~/Documents/anaconda3/lib/python3.6/site-packages/scipy/optimize/_differentialevolution.py\u001b[0m in \u001b[0;36m__next__\u001b[0;34m(self)\u001b[0m\n\u001b[1;32m    637\u001b[0m \u001b[0;34m\u001b[0m\u001b[0m\n\u001b[1;32m    638\u001b[0m             \u001b[0;31m# determine the energy of the objective function\u001b[0m\u001b[0;34m\u001b[0m\u001b[0;34m\u001b[0m\u001b[0m\n\u001b[0;32m--> 639\u001b[0;31m             \u001b[0menergy\u001b[0m \u001b[0;34m=\u001b[0m \u001b[0mself\u001b[0m\u001b[0;34m.\u001b[0m\u001b[0mfunc\u001b[0m\u001b[0;34m(\u001b[0m\u001b[0mparameters\u001b[0m\u001b[0;34m,\u001b[0m \u001b[0;34m*\u001b[0m\u001b[0mself\u001b[0m\u001b[0;34m.\u001b[0m\u001b[0margs\u001b[0m\u001b[0;34m)\u001b[0m\u001b[0;34m\u001b[0m\u001b[0m\n\u001b[0m\u001b[1;32m    640\u001b[0m             \u001b[0mself\u001b[0m\u001b[0;34m.\u001b[0m\u001b[0m_nfev\u001b[0m \u001b[0;34m+=\u001b[0m \u001b[0;36m1\u001b[0m\u001b[0;34m\u001b[0m\u001b[0m\n\u001b[1;32m    641\u001b[0m \u001b[0;34m\u001b[0m\u001b[0m\n",
      "\u001b[0;32m<ipython-input-44-d4d440bfb4b7>\u001b[0m in \u001b[0;36mpredict_targeted\u001b[0;34m(x, *args)\u001b[0m\n\u001b[1;32m      2\u001b[0m     \u001b[0mimg\u001b[0m\u001b[0;34m,\u001b[0m \u001b[0mtarget_class\u001b[0m\u001b[0;34m,\u001b[0m \u001b[0mmodel\u001b[0m \u001b[0;34m=\u001b[0m \u001b[0margs\u001b[0m\u001b[0;34m\u001b[0m\u001b[0m\n\u001b[1;32m      3\u001b[0m     \u001b[0mimg_perturbed\u001b[0m \u001b[0;34m=\u001b[0m \u001b[0mperturb_image_absolute\u001b[0m\u001b[0;34m(\u001b[0m\u001b[0mx\u001b[0m\u001b[0;34m,\u001b[0m \u001b[0mimg\u001b[0m\u001b[0;34m)\u001b[0m\u001b[0;34m\u001b[0m\u001b[0m\n\u001b[0;32m----> 4\u001b[0;31m     \u001b[0mprediction\u001b[0m \u001b[0;34m=\u001b[0m \u001b[0mmodel\u001b[0m\u001b[0;34m.\u001b[0m\u001b[0mpredict\u001b[0m\u001b[0;34m(\u001b[0m\u001b[0mimg_perturbed\u001b[0m\u001b[0;34m)\u001b[0m\u001b[0;34m\u001b[0m\u001b[0m\n\u001b[0m\u001b[1;32m      5\u001b[0m     \u001b[0;32mreturn\u001b[0m \u001b[0;36m1\u001b[0m \u001b[0;34m-\u001b[0m \u001b[0mprediction\u001b[0m\u001b[0;34m[\u001b[0m\u001b[0;36m0\u001b[0m\u001b[0;34m]\u001b[0m\u001b[0;34m[\u001b[0m\u001b[0mtarget_class\u001b[0m\u001b[0;34m]\u001b[0m\u001b[0;34m\u001b[0m\u001b[0m\n",
      "\u001b[0;32m~/Documents/drive/code/projects/ml/one-pixel-attack/networks/wide_resnet.py\u001b[0m in \u001b[0;36mpredict\u001b[0;34m(self, img)\u001b[0m\n\u001b[1;32m    158\u001b[0m     \u001b[0;32mdef\u001b[0m \u001b[0mpredict\u001b[0m\u001b[0;34m(\u001b[0m\u001b[0mself\u001b[0m\u001b[0;34m,\u001b[0m \u001b[0mimg\u001b[0m\u001b[0;34m)\u001b[0m\u001b[0;34m:\u001b[0m\u001b[0;34m\u001b[0m\u001b[0m\n\u001b[1;32m    159\u001b[0m         \u001b[0mprocessed\u001b[0m \u001b[0;34m=\u001b[0m \u001b[0mself\u001b[0m\u001b[0;34m.\u001b[0m\u001b[0mcolor_process\u001b[0m\u001b[0;34m(\u001b[0m\u001b[0mimg\u001b[0m\u001b[0;34m)\u001b[0m\u001b[0;34m\u001b[0m\u001b[0m\n\u001b[0;32m--> 160\u001b[0;31m         \u001b[0;32mreturn\u001b[0m \u001b[0mself\u001b[0m\u001b[0;34m.\u001b[0m\u001b[0m_model\u001b[0m\u001b[0;34m.\u001b[0m\u001b[0mpredict\u001b[0m\u001b[0;34m(\u001b[0m\u001b[0mnp\u001b[0m\u001b[0;34m.\u001b[0m\u001b[0marray\u001b[0m\u001b[0;34m(\u001b[0m\u001b[0;34m[\u001b[0m\u001b[0mprocessed\u001b[0m\u001b[0;34m]\u001b[0m\u001b[0;34m)\u001b[0m\u001b[0;34m)\u001b[0m\u001b[0;34m\u001b[0m\u001b[0m\n\u001b[0m",
      "\u001b[0;32m~/Documents/anaconda3/lib/python3.6/site-packages/keras/engine/training.py\u001b[0m in \u001b[0;36mpredict\u001b[0;34m(self, x, batch_size, verbose, steps)\u001b[0m\n\u001b[1;32m   1840\u001b[0m         \u001b[0mf\u001b[0m \u001b[0;34m=\u001b[0m \u001b[0mself\u001b[0m\u001b[0;34m.\u001b[0m\u001b[0mpredict_function\u001b[0m\u001b[0;34m\u001b[0m\u001b[0m\n\u001b[1;32m   1841\u001b[0m         return self._predict_loop(f, ins, batch_size=batch_size,\n\u001b[0;32m-> 1842\u001b[0;31m                                   verbose=verbose, steps=steps)\n\u001b[0m\u001b[1;32m   1843\u001b[0m \u001b[0;34m\u001b[0m\u001b[0m\n\u001b[1;32m   1844\u001b[0m     def train_on_batch(self, x, y,\n",
      "\u001b[0;32m~/Documents/anaconda3/lib/python3.6/site-packages/keras/engine/training.py\u001b[0m in \u001b[0;36m_predict_loop\u001b[0;34m(self, f, ins, batch_size, verbose, steps)\u001b[0m\n\u001b[1;32m   1335\u001b[0m                     \u001b[0mins_batch\u001b[0m\u001b[0;34m[\u001b[0m\u001b[0mi\u001b[0m\u001b[0;34m]\u001b[0m \u001b[0;34m=\u001b[0m \u001b[0mins_batch\u001b[0m\u001b[0;34m[\u001b[0m\u001b[0mi\u001b[0m\u001b[0;34m]\u001b[0m\u001b[0;34m.\u001b[0m\u001b[0mtoarray\u001b[0m\u001b[0;34m(\u001b[0m\u001b[0;34m)\u001b[0m\u001b[0;34m\u001b[0m\u001b[0m\n\u001b[1;32m   1336\u001b[0m \u001b[0;34m\u001b[0m\u001b[0m\n\u001b[0;32m-> 1337\u001b[0;31m                 \u001b[0mbatch_outs\u001b[0m \u001b[0;34m=\u001b[0m \u001b[0mf\u001b[0m\u001b[0;34m(\u001b[0m\u001b[0mins_batch\u001b[0m\u001b[0;34m)\u001b[0m\u001b[0;34m\u001b[0m\u001b[0m\n\u001b[0m\u001b[1;32m   1338\u001b[0m                 \u001b[0;32mif\u001b[0m \u001b[0;32mnot\u001b[0m \u001b[0misinstance\u001b[0m\u001b[0;34m(\u001b[0m\u001b[0mbatch_outs\u001b[0m\u001b[0;34m,\u001b[0m \u001b[0mlist\u001b[0m\u001b[0;34m)\u001b[0m\u001b[0;34m:\u001b[0m\u001b[0;34m\u001b[0m\u001b[0m\n\u001b[1;32m   1339\u001b[0m                     \u001b[0mbatch_outs\u001b[0m \u001b[0;34m=\u001b[0m \u001b[0;34m[\u001b[0m\u001b[0mbatch_outs\u001b[0m\u001b[0;34m]\u001b[0m\u001b[0;34m\u001b[0m\u001b[0m\n",
      "\u001b[0;32m~/Documents/anaconda3/lib/python3.6/site-packages/keras/backend/tensorflow_backend.py\u001b[0m in \u001b[0;36m__call__\u001b[0;34m(self, inputs)\u001b[0m\n\u001b[1;32m   2473\u001b[0m         \u001b[0msession\u001b[0m \u001b[0;34m=\u001b[0m \u001b[0mget_session\u001b[0m\u001b[0;34m(\u001b[0m\u001b[0;34m)\u001b[0m\u001b[0;34m\u001b[0m\u001b[0m\n\u001b[1;32m   2474\u001b[0m         updated = session.run(fetches=fetches, feed_dict=feed_dict,\n\u001b[0;32m-> 2475\u001b[0;31m                               **self.session_kwargs)\n\u001b[0m\u001b[1;32m   2476\u001b[0m         \u001b[0;32mreturn\u001b[0m \u001b[0mupdated\u001b[0m\u001b[0;34m[\u001b[0m\u001b[0;34m:\u001b[0m\u001b[0mlen\u001b[0m\u001b[0;34m(\u001b[0m\u001b[0mself\u001b[0m\u001b[0;34m.\u001b[0m\u001b[0moutputs\u001b[0m\u001b[0;34m)\u001b[0m\u001b[0;34m]\u001b[0m\u001b[0;34m\u001b[0m\u001b[0m\n\u001b[1;32m   2477\u001b[0m \u001b[0;34m\u001b[0m\u001b[0m\n",
      "\u001b[0;32m~/Documents/anaconda3/lib/python3.6/site-packages/tensorflow/python/client/session.py\u001b[0m in \u001b[0;36mrun\u001b[0;34m(self, fetches, feed_dict, options, run_metadata)\u001b[0m\n\u001b[1;32m    893\u001b[0m     \u001b[0;32mtry\u001b[0m\u001b[0;34m:\u001b[0m\u001b[0;34m\u001b[0m\u001b[0m\n\u001b[1;32m    894\u001b[0m       result = self._run(None, fetches, feed_dict, options_ptr,\n\u001b[0;32m--> 895\u001b[0;31m                          run_metadata_ptr)\n\u001b[0m\u001b[1;32m    896\u001b[0m       \u001b[0;32mif\u001b[0m \u001b[0mrun_metadata\u001b[0m\u001b[0;34m:\u001b[0m\u001b[0;34m\u001b[0m\u001b[0m\n\u001b[1;32m    897\u001b[0m         \u001b[0mproto_data\u001b[0m \u001b[0;34m=\u001b[0m \u001b[0mtf_session\u001b[0m\u001b[0;34m.\u001b[0m\u001b[0mTF_GetBuffer\u001b[0m\u001b[0;34m(\u001b[0m\u001b[0mrun_metadata_ptr\u001b[0m\u001b[0;34m)\u001b[0m\u001b[0;34m\u001b[0m\u001b[0m\n",
      "\u001b[0;32m~/Documents/anaconda3/lib/python3.6/site-packages/tensorflow/python/client/session.py\u001b[0m in \u001b[0;36m_run\u001b[0;34m(self, handle, fetches, feed_dict, options, run_metadata)\u001b[0m\n\u001b[1;32m   1126\u001b[0m     \u001b[0;32mif\u001b[0m \u001b[0mfinal_fetches\u001b[0m \u001b[0;32mor\u001b[0m \u001b[0mfinal_targets\u001b[0m \u001b[0;32mor\u001b[0m \u001b[0;34m(\u001b[0m\u001b[0mhandle\u001b[0m \u001b[0;32mand\u001b[0m \u001b[0mfeed_dict_tensor\u001b[0m\u001b[0;34m)\u001b[0m\u001b[0;34m:\u001b[0m\u001b[0;34m\u001b[0m\u001b[0m\n\u001b[1;32m   1127\u001b[0m       results = self._do_run(handle, final_targets, final_fetches,\n\u001b[0;32m-> 1128\u001b[0;31m                              feed_dict_tensor, options, run_metadata)\n\u001b[0m\u001b[1;32m   1129\u001b[0m     \u001b[0;32melse\u001b[0m\u001b[0;34m:\u001b[0m\u001b[0;34m\u001b[0m\u001b[0m\n\u001b[1;32m   1130\u001b[0m       \u001b[0mresults\u001b[0m \u001b[0;34m=\u001b[0m \u001b[0;34m[\u001b[0m\u001b[0;34m]\u001b[0m\u001b[0;34m\u001b[0m\u001b[0m\n",
      "\u001b[0;32m~/Documents/anaconda3/lib/python3.6/site-packages/tensorflow/python/client/session.py\u001b[0m in \u001b[0;36m_do_run\u001b[0;34m(self, handle, target_list, fetch_list, feed_dict, options, run_metadata)\u001b[0m\n\u001b[1;32m   1342\u001b[0m     \u001b[0;32mif\u001b[0m \u001b[0mhandle\u001b[0m \u001b[0;32mis\u001b[0m \u001b[0;32mNone\u001b[0m\u001b[0;34m:\u001b[0m\u001b[0;34m\u001b[0m\u001b[0m\n\u001b[1;32m   1343\u001b[0m       return self._do_call(_run_fn, self._session, feeds, fetches, targets,\n\u001b[0;32m-> 1344\u001b[0;31m                            options, run_metadata)\n\u001b[0m\u001b[1;32m   1345\u001b[0m     \u001b[0;32melse\u001b[0m\u001b[0;34m:\u001b[0m\u001b[0;34m\u001b[0m\u001b[0m\n\u001b[1;32m   1346\u001b[0m       \u001b[0;32mreturn\u001b[0m \u001b[0mself\u001b[0m\u001b[0;34m.\u001b[0m\u001b[0m_do_call\u001b[0m\u001b[0;34m(\u001b[0m\u001b[0m_prun_fn\u001b[0m\u001b[0;34m,\u001b[0m \u001b[0mself\u001b[0m\u001b[0;34m.\u001b[0m\u001b[0m_session\u001b[0m\u001b[0;34m,\u001b[0m \u001b[0mhandle\u001b[0m\u001b[0;34m,\u001b[0m \u001b[0mfeeds\u001b[0m\u001b[0;34m,\u001b[0m \u001b[0mfetches\u001b[0m\u001b[0;34m)\u001b[0m\u001b[0;34m\u001b[0m\u001b[0m\n",
      "\u001b[0;32m~/Documents/anaconda3/lib/python3.6/site-packages/tensorflow/python/client/session.py\u001b[0m in \u001b[0;36m_do_call\u001b[0;34m(self, fn, *args)\u001b[0m\n\u001b[1;32m   1348\u001b[0m   \u001b[0;32mdef\u001b[0m \u001b[0m_do_call\u001b[0m\u001b[0;34m(\u001b[0m\u001b[0mself\u001b[0m\u001b[0;34m,\u001b[0m \u001b[0mfn\u001b[0m\u001b[0;34m,\u001b[0m \u001b[0;34m*\u001b[0m\u001b[0margs\u001b[0m\u001b[0;34m)\u001b[0m\u001b[0;34m:\u001b[0m\u001b[0;34m\u001b[0m\u001b[0m\n\u001b[1;32m   1349\u001b[0m     \u001b[0;32mtry\u001b[0m\u001b[0;34m:\u001b[0m\u001b[0;34m\u001b[0m\u001b[0m\n\u001b[0;32m-> 1350\u001b[0;31m       \u001b[0;32mreturn\u001b[0m \u001b[0mfn\u001b[0m\u001b[0;34m(\u001b[0m\u001b[0;34m*\u001b[0m\u001b[0margs\u001b[0m\u001b[0;34m)\u001b[0m\u001b[0;34m\u001b[0m\u001b[0m\n\u001b[0m\u001b[1;32m   1351\u001b[0m     \u001b[0;32mexcept\u001b[0m \u001b[0merrors\u001b[0m\u001b[0;34m.\u001b[0m\u001b[0mOpError\u001b[0m \u001b[0;32mas\u001b[0m \u001b[0me\u001b[0m\u001b[0;34m:\u001b[0m\u001b[0;34m\u001b[0m\u001b[0m\n\u001b[1;32m   1352\u001b[0m       \u001b[0mmessage\u001b[0m \u001b[0;34m=\u001b[0m \u001b[0mcompat\u001b[0m\u001b[0;34m.\u001b[0m\u001b[0mas_text\u001b[0m\u001b[0;34m(\u001b[0m\u001b[0me\u001b[0m\u001b[0;34m.\u001b[0m\u001b[0mmessage\u001b[0m\u001b[0;34m)\u001b[0m\u001b[0;34m\u001b[0m\u001b[0m\n",
      "\u001b[0;32m~/Documents/anaconda3/lib/python3.6/site-packages/tensorflow/python/client/session.py\u001b[0m in \u001b[0;36m_run_fn\u001b[0;34m(session, feed_dict, fetch_list, target_list, options, run_metadata)\u001b[0m\n\u001b[1;32m   1327\u001b[0m           return tf_session.TF_Run(session, options,\n\u001b[1;32m   1328\u001b[0m                                    \u001b[0mfeed_dict\u001b[0m\u001b[0;34m,\u001b[0m \u001b[0mfetch_list\u001b[0m\u001b[0;34m,\u001b[0m \u001b[0mtarget_list\u001b[0m\u001b[0;34m,\u001b[0m\u001b[0;34m\u001b[0m\u001b[0m\n\u001b[0;32m-> 1329\u001b[0;31m                                    status, run_metadata)\n\u001b[0m\u001b[1;32m   1330\u001b[0m \u001b[0;34m\u001b[0m\u001b[0m\n\u001b[1;32m   1331\u001b[0m     \u001b[0;32mdef\u001b[0m \u001b[0m_prun_fn\u001b[0m\u001b[0;34m(\u001b[0m\u001b[0msession\u001b[0m\u001b[0;34m,\u001b[0m \u001b[0mhandle\u001b[0m\u001b[0;34m,\u001b[0m \u001b[0mfeed_dict\u001b[0m\u001b[0;34m,\u001b[0m \u001b[0mfetch_list\u001b[0m\u001b[0;34m)\u001b[0m\u001b[0;34m:\u001b[0m\u001b[0;34m\u001b[0m\u001b[0m\n",
      "\u001b[0;31mKeyboardInterrupt\u001b[0m: "
     ]
    }
   ],
   "source": [
    "targeted_results = attack_targeted(models[0])\n",
    "targeted_results"
   ]
  },
  {
   "cell_type": "markdown",
   "metadata": {},
   "source": [
    "### Show some successful attacks"
   ]
  },
  {
   "cell_type": "markdown",
   "metadata": {},
   "source": [
    "Plot the first 9 misclassified images"
   ]
  },
  {
   "cell_type": "markdown",
   "metadata": {},
   "source": [
    "## Credits\n",
    " - Base code taken from https://github.com/09rohanchopra/cifar10\n",
    " - https://arxiv.org/pdf/1412.6806.pdf\n",
    " - https://github.com/fchollet/keras/blob/master/examples/cifar10_cnn.py\n",
    " - https://github.com/Hvass-Labs/TensorFlow-Tutorials/blob/master/06_CIFAR-10.ipynb\n",
    " - http://machinelearningmastery.com/object-recognition-convolutional-neural-networks-keras-deep-learning-library/\n",
    " - https://parneetk.github.io/blog/cnn-cifar10/\n",
    " - https://github.com/dnlcrl/deep-residual-networks-pyfunt/blob/master/docs/CIFAR-10%20Experiments.ipynb"
   ]
  }
 ],
 "metadata": {
  "kernelspec": {
   "display_name": "Python 3",
   "language": "python",
   "name": "python3"
  },
  "language_info": {
   "codemirror_mode": {
    "name": "ipython",
    "version": 3
   },
   "file_extension": ".py",
   "mimetype": "text/x-python",
   "name": "python",
   "nbconvert_exporter": "python",
   "pygments_lexer": "ipython3",
   "version": "3.6.3"
  }
 },
 "nbformat": 4,
 "nbformat_minor": 2
}
