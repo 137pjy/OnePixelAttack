{
 "cells": [
  {
   "cell_type": "markdown",
   "metadata": {},
   "source": [
    "# One Pixel Attack Tutorial"
   ]
  },
  {
   "cell_type": "markdown",
   "metadata": {},
   "source": [
    "![](images/pred2.png \"All it takes is one pixel\")"
   ]
  },
  {
   "cell_type": "markdown",
   "metadata": {},
   "source": [
    "## Imports"
   ]
  },
  {
   "cell_type": "code",
   "execution_count": 1,
   "metadata": {},
   "outputs": [
    {
     "name": "stderr",
     "output_type": "stream",
     "text": [
      "/home/hyper/Documents/anaconda3/lib/python3.6/site-packages/h5py/__init__.py:34: FutureWarning: Conversion of the second argument of issubdtype from `float` to `np.floating` is deprecated. In future, it will be treated as `np.float64 == np.dtype(float).type`.\n",
      "  from ._conv import register_converters as _register_converters\n",
      "Using TensorFlow backend.\n"
     ]
    }
   ],
   "source": [
    "# Python Libraries\n",
    "%matplotlib inline\n",
    "import numpy as np\n",
    "import pandas as pd\n",
    "from keras.datasets import cifar10\n",
    "import matplotlib\n",
    "from matplotlib import pyplot as plt\n",
    "from scipy.optimize import differential_evolution\n",
    "from scipy.stats import truncnorm\n",
    "from IPython.display import clear_output\n",
    "\n",
    "# Custom Networks\n",
    "from networks.lecun_net import LecunNet\n",
    "from networks.pure_cnn import PureCnn\n",
    "from networks.network_in_network import NetworkInNetwork\n",
    "from networks.resnet import ResNet\n",
    "from networks.densenet import DenseNet\n",
    "from networks.wide_resnet import WideResNet\n",
    "\n",
    "# Helper functions\n",
    "from helper import plot_image, plot_images, evaluate_models, visualize_attack, attack_stats\n",
    "\n",
    "matplotlib.style.use('ggplot')"
   ]
  },
  {
   "cell_type": "markdown",
   "metadata": {},
   "source": [
    "## Load Dataset"
   ]
  },
  {
   "cell_type": "markdown",
   "metadata": {},
   "source": [
    "Load the Cifar10 dataset and all necessary metadata. Keras will need to download the dataset if it is not cached locally already."
   ]
  },
  {
   "cell_type": "code",
   "execution_count": 2,
   "metadata": {},
   "outputs": [],
   "source": [
    "(x_train, y_train), (x_test, y_test) = cifar10.load_data()"
   ]
  },
  {
   "cell_type": "code",
   "execution_count": 3,
   "metadata": {},
   "outputs": [],
   "source": [
    "class_names = ['airplane', 'automobile', 'bird', 'cat', 'deer', 'dog', 'frog', 'horse', 'ship', 'truck']"
   ]
  },
  {
   "cell_type": "code",
   "execution_count": 4,
   "metadata": {},
   "outputs": [
    {
     "data": {
      "image/png": "[encoded data removed]",
      "text/plain": [
       "<matplotlib.figure.Figure at 0x7f7b4c992908>"
      ]
     },
     "metadata": {},
     "output_type": "display_data"
    }
   ],
   "source": [
    "image = 99\n",
    "plot_image(x_test[image])"
   ]
  },
  {
   "cell_type": "markdown",
   "metadata": {},
   "source": [
    "## Image Perturbation"
   ]
  },
  {
   "cell_type": "code",
   "execution_count": 5,
   "metadata": {},
   "outputs": [],
   "source": [
    "def perturb_image(x, img):\n",
    "    img = np.copy(img)\n",
    "    pixels = np.split(x.astype(int), len(x) // 5)\n",
    "    for pixel in pixels:\n",
    "        x_pos, y_pos, *rgb = pixel\n",
    "        img[x_pos, y_pos] = rgb\n",
    "    return img"
   ]
  },
  {
   "cell_type": "code",
   "execution_count": 6,
   "metadata": {},
   "outputs": [
    {
     "data": {
      "image/png": "[encoded data removed]",
      "text/plain": [
       "<matplotlib.figure.Figure at 0x7f7b436b7160>"
      ]
     },
     "metadata": {},
     "output_type": "display_data"
    }
   ],
   "source": [
    "image = 99\n",
    "pixel = np.array([16, 16, 255, 255, 0])\n",
    "image_perturbed = perturb_image(pixel, x_test[image])\n",
    "\n",
    "plot_image(image_perturbed)"
   ]
  },
  {
   "cell_type": "markdown",
   "metadata": {},
   "source": [
    "## Load Models"
   ]
  },
  {
   "cell_type": "markdown",
   "metadata": {},
   "source": [
    "Load various pretrained Neural Network models in the `networks/models` directory. There are more networks available, but must be trained before testing them here."
   ]
  },
  {
   "cell_type": "code",
   "execution_count": 7,
   "metadata": {},
   "outputs": [
    {
     "name": "stdout",
     "output_type": "stream",
     "text": [
      "Successfully loaded lecun_net\n",
      "Successfully loaded pure_cnn\n",
      "Successfully loaded net_in_net\n",
      "Successfully loaded resnet\n",
      "Successfully loaded densenet\n",
      "Successfully loaded wide_resnet\n"
     ]
    }
   ],
   "source": [
    "# Available pretrained models\n",
    "lecun_net = LecunNet()\n",
    "pure_cnn = PureCnn()\n",
    "net_in_net = NetworkInNetwork()\n",
    "resnet = ResNet()\n",
    "densenet = DenseNet()\n",
    "wide_resnet = WideResNet()\n",
    "\n",
    "models = [lecun_net, pure_cnn, net_in_net, resnet]\n",
    "\n",
    "# If your machine can handle it, uncomment for all available models\n",
    "# models = [lecun_net, pure_cnn, net_in_net, resnet, densenet, wide_resnet]"
   ]
  },
  {
   "cell_type": "markdown",
   "metadata": {},
   "source": [
    "### Calculate Model Accuracies"
   ]
  },
  {
   "cell_type": "code",
   "execution_count": 8,
   "metadata": {
    "scrolled": true
   },
   "outputs": [
    {
     "name": "stdout",
     "output_type": "stream",
     "text": [
      "Evaluating lecun_net\n",
      "Evaluating pure_cnn\n",
      "Evaluating net_in_net\n",
      "Evaluating resnet\n"
     ]
    },
    {
     "data": {
      "text/html": [
       "<div>\n",
       "<style>\n",
       "    .dataframe thead tr:only-child th {\n",
       "        text-align: right;\n",
       "    }\n",
       "\n",
       "    .dataframe thead th {\n",
       "        text-align: left;\n",
       "    }\n",
       "\n",
       "    .dataframe tbody tr th {\n",
       "        vertical-align: top;\n",
       "    }\n",
       "</style>\n",
       "<table border=\"1\" class=\"dataframe\">\n",
       "  <thead>\n",
       "    <tr style=\"text-align: right;\">\n",
       "      <th></th>\n",
       "      <th>name</th>\n",
       "      <th>accuracy</th>\n",
       "      <th>param_count</th>\n",
       "    </tr>\n",
       "  </thead>\n",
       "  <tbody>\n",
       "    <tr>\n",
       "      <th>0</th>\n",
       "      <td>lecun_net</td>\n",
       "      <td>0.7488</td>\n",
       "      <td>62006</td>\n",
       "    </tr>\n",
       "    <tr>\n",
       "      <th>1</th>\n",
       "      <td>pure_cnn</td>\n",
       "      <td>0.8877</td>\n",
       "      <td>1369738</td>\n",
       "    </tr>\n",
       "    <tr>\n",
       "      <th>2</th>\n",
       "      <td>net_in_net</td>\n",
       "      <td>0.9074</td>\n",
       "      <td>972658</td>\n",
       "    </tr>\n",
       "    <tr>\n",
       "      <th>3</th>\n",
       "      <td>resnet</td>\n",
       "      <td>0.9231</td>\n",
       "      <td>470218</td>\n",
       "    </tr>\n",
       "  </tbody>\n",
       "</table>\n",
       "</div>"
      ],
      "text/plain": [
       "         name  accuracy  param_count\n",
       "0   lecun_net    0.7488        62006\n",
       "1    pure_cnn    0.8877      1369738\n",
       "2  net_in_net    0.9074       972658\n",
       "3      resnet    0.9231       470218"
      ]
     },
     "execution_count": 8,
     "metadata": {},
     "output_type": "execute_result"
    }
   ],
   "source": [
    "network_stats, correct_imgs = evaluate_models(models, x_test, y_test)\n",
    "correct_imgs = pd.DataFrame(correct_imgs, columns=['name', 'img', 'label', 'confidence', 'pred'])\n",
    "network_stats = pd.DataFrame(network_stats, columns=['name', 'accuracy', 'param_count'])\n",
    "\n",
    "network_stats"
   ]
  },
  {
   "cell_type": "markdown",
   "metadata": {},
   "source": [
    "### Prediction Function"
   ]
  },
  {
   "cell_type": "code",
   "execution_count": 9,
   "metadata": {},
   "outputs": [],
   "source": [
    "def predict_class(x, img, target_class, model, minimize=True):\n",
    "    img_perturbed = perturb_image(x, img)\n",
    "    prediction = model.predict_one(img_perturbed)[target_class]\n",
    "    return prediction if minimize else 1 - prediction"
   ]
  },
  {
   "cell_type": "code",
   "execution_count": 10,
   "metadata": {},
   "outputs": [
    {
     "name": "stdout",
     "output_type": "stream",
     "text": [
      "Confidence in true class frog is 0.99999976\n"
     ]
    },
    {
     "data": {
      "image/png": "[encoded data removed]",
      "text/plain": [
       "<matplotlib.figure.Figure at 0x7f783fef2898>"
      ]
     },
     "metadata": {},
     "output_type": "display_data"
    }
   ],
   "source": [
    "image = 102\n",
    "pixel = np.array([16, 16, 255, 255, 0])\n",
    "\n",
    "true_class = y_test[image,0]\n",
    "model = resnet\n",
    "confidence = predict_class(pixel, x_test[image], true_class, model)\n",
    "\n",
    "print('Confidence in true class', class_names[true_class], 'is', confidence)\n",
    "plot_image(perturb_image(pixel, x_test[image]))"
   ]
  },
  {
   "cell_type": "markdown",
   "metadata": {},
   "source": [
    "## The Attack"
   ]
  },
  {
   "cell_type": "markdown",
   "metadata": {},
   "source": [
    "The objective of an untargeted attack is to cause a model to misclassify an image. This means we want to minimize the probability of the correct classification category and maximize the sum of the probabilities of all other categories."
   ]
  },
  {
   "cell_type": "markdown",
   "metadata": {},
   "source": [
    "### Targeted vs. Untargeted Attacks"
   ]
  },
  {
   "cell_type": "markdown",
   "metadata": {},
   "source": [
    "### Success Criterion"
   ]
  },
  {
   "cell_type": "code",
   "execution_count": 11,
   "metadata": {},
   "outputs": [],
   "source": [
    "def attack_success(x, img, target_class, model, targeted_attack=False, verbose=False):\n",
    "    attack_image = perturb_image(x, x_test[img])\n",
    "    confidence = model.predict_one(attack_image)\n",
    "    predicted_class = np.argmax(confidence)\n",
    "    if (verbose):\n",
    "        print('Confidence:', confidence[target_class])\n",
    "    if ((targeted_attack and predicted_class == target_class) or\n",
    "        (not targeted_attack and predicted_class != target_class)):\n",
    "        return True\n",
    "    else:\n",
    "        return None"
   ]
  },
  {
   "cell_type": "code",
   "execution_count": 12,
   "metadata": {},
   "outputs": [
    {
     "name": "stdout",
     "output_type": "stream",
     "text": [
      "Confidence: 0.9999976\n",
      "Attack success: False\n"
     ]
    },
    {
     "data": {
      "image/png": "[encoded data removed]",
      "text/plain": [
       "<matplotlib.figure.Figure at 0x7f7832448198>"
      ]
     },
     "metadata": {},
     "output_type": "display_data"
    }
   ],
   "source": [
    "image = 105\n",
    "pixel = np.array([16, 16, 255, 255, 0])\n",
    "model = resnet\n",
    "success = attack_success(pixel, image, y_test[image,0], model, verbose=True)\n",
    "\n",
    "print('Attack success:', success == True)\n",
    "plot_image(perturb_image(pixel, x_test[image]))"
   ]
  },
  {
   "cell_type": "markdown",
   "metadata": {},
   "source": [
    "### Attack Function"
   ]
  },
  {
   "cell_type": "code",
   "execution_count": 13,
   "metadata": {},
   "outputs": [],
   "source": [
    "def attack(img, model, target=None, pixel_count=1, \n",
    "           maxiter=30, popsize=20, verbose=False):\n",
    "    \n",
    "    targeted_attack = target is not None\n",
    "    target_class = target if targeted_attack else y_test[img][0]\n",
    "    \n",
    "    bounds = [(0,32), (0,32), (0,256), (0,256), (0,256)] * pixel_count\n",
    "    \n",
    "    # Format the predict/callback functions for the differential evolution algorithm\n",
    "    predict_fn = lambda x: predict_class(\n",
    "        x, x_test[img], target_class, model, target is None)\n",
    "    callback_fn = lambda x, convergence: attack_success(\n",
    "        x, img, target_class, model, targeted_attack, verbose)\n",
    "    \n",
    "    # Call Scipy's Implementation of Differential Evolution\n",
    "    attack_result = differential_evolution(\n",
    "        predict_fn, bounds, maxiter=maxiter, popsize=popsize,\n",
    "        recombination=1, atol=-1, callback=callback_fn)\n",
    "\n",
    "    attack_image = perturb_image(attack_result.x, x_test[img])\n",
    "    prior_probs = model.predict_one(x_test[img])\n",
    "    predicted_probs = model.predict_one(attack_image)\n",
    "    predicted_class = np.argmax(predicted_probs)\n",
    "    actual_class = y_test[img][0]\n",
    "    success = predicted_class != actual_class\n",
    "    cdiff = prior_probs[actual_class] - predicted_probs[actual_class]\n",
    "\n",
    "    plot_image(attack_image, actual_class, class_names, predicted_class)\n",
    "\n",
    "    return [model.name, pixel_count, img, actual_class, predicted_class, success, cdiff, prior_probs, predicted_probs, attack_image]"
   ]
  },
  {
   "cell_type": "markdown",
   "metadata": {},
   "source": [
    "#### Untargeted Attack"
   ]
  },
  {
   "cell_type": "code",
   "execution_count": 14,
   "metadata": {
    "scrolled": true
   },
   "outputs": [
    {
     "name": "stdout",
     "output_type": "stream",
     "text": [
      "Confidence: 0.9731295\n",
      "Confidence: 0.7859155\n",
      "Confidence: 0.7859155\n",
      "Confidence: 0.7859155\n",
      "Confidence: 0.62636065\n",
      "Confidence: 0.4261915\n"
     ]
    },
    {
     "data": {
      "image/png": "[encoded data removed]",
      "text/plain": [
       "<matplotlib.figure.Figure at 0x7f7832232fd0>"
      ]
     },
     "metadata": {},
     "output_type": "display_data"
    }
   ],
   "source": [
    "image = 102\n",
    "pixels = 2\n",
    "model = resnet\n",
    "_ = attack(image, model, pixel_count=pixels, verbose=True)"
   ]
  },
  {
   "cell_type": "markdown",
   "metadata": {},
   "source": [
    "#### Targeted Attack"
   ]
  },
  {
   "cell_type": "code",
   "execution_count": 15,
   "metadata": {
    "scrolled": true
   },
   "outputs": [
    {
     "name": "stdout",
     "output_type": "stream",
     "text": [
      "Attacking with target automobile\n",
      "Confidence: 0.02378367\n",
      "Confidence: 0.02378367\n",
      "Confidence: 0.02378367\n",
      "Confidence: 0.026306313\n",
      "Confidence: 0.026306313\n",
      "Confidence: 0.0513022\n",
      "Confidence: 0.0513022\n",
      "Confidence: 0.06527986\n",
      "Confidence: 0.06527986\n",
      "Confidence: 0.07052445\n",
      "Confidence: 0.07052445\n",
      "Confidence: 0.07886145\n",
      "Confidence: 0.15710153\n",
      "Confidence: 0.15710153\n",
      "Confidence: 0.15710153\n",
      "Confidence: 0.15710153\n",
      "Confidence: 0.15710153\n",
      "Confidence: 0.15710153\n",
      "Confidence: 0.15710153\n",
      "Confidence: 0.15710153\n",
      "Confidence: 0.15710153\n",
      "Confidence: 0.40506834\n",
      "Confidence: 0.40506834\n",
      "Confidence: 0.40506834\n",
      "Confidence: 0.40506834\n",
      "Confidence: 0.40506834\n",
      "Confidence: 0.40506834\n",
      "Confidence: 0.40506834\n",
      "Confidence: 0.40506834\n",
      "Confidence: 0.40506834\n",
      "Confidence: 0.40506834\n",
      "Confidence: 0.40506834\n",
      "Confidence: 0.40506834\n",
      "Confidence: 0.40506834\n",
      "Confidence: 0.4104339\n",
      "Confidence: 0.5042228\n"
     ]
    },
    {
     "data": {
      "image/png": "[encoded data removed]",
      "text/plain": [
       "<matplotlib.figure.Figure at 0x7f783223ca20>"
      ]
     },
     "metadata": {},
     "output_type": "display_data"
    }
   ],
   "source": [
    "image = 108\n",
    "target_class = 1 # Integer in range 0-9\n",
    "pixels = 3\n",
    "model = lecun_net\n",
    "print('Attacking with target', class_names[target_class])\n",
    "_ = attack(image, model, target_class, pixel_count=pixels, popsize=50, maxiter=40, verbose=True)"
   ]
  },
  {
   "cell_type": "markdown",
   "metadata": {},
   "source": [
    "### Collect Results"
   ]
  },
  {
   "cell_type": "code",
   "execution_count": 16,
   "metadata": {},
   "outputs": [],
   "source": [
    "def attack_all(models, samples=100, pixels=(1,2,3), targeted=False, verbose=False):\n",
    "    results = []\n",
    "    for model in models:\n",
    "        valid_imgs = correct_imgs[correct_imgs.name == model.name].img\n",
    "        img_samples = np.random.choice(valid_imgs, samples)\n",
    "        for pixel_count in pixels:\n",
    "            for i,img in enumerate(img_samples):\n",
    "                print(model.name, '- image', img, '-', i+1, '/', len(img_samples))\n",
    "                targets = [None] if not targeted else range(10)\n",
    "                \n",
    "                for target in targets:\n",
    "                    if (targeted):\n",
    "                        print('Attacking with target', class_names[target])\n",
    "                        if (target == y_test[img][0]):\n",
    "                            continue\n",
    "                    result = attack(img, model, target, pixel_count, \n",
    "                                    popsize=(30 // pixel_count), verbose=verbose)\n",
    "                    results.append(result)\n",
    "    return results"
   ]
  },
  {
   "cell_type": "code",
   "execution_count": null,
   "metadata": {
    "scrolled": true
   },
   "outputs": [],
   "source": [
    "untargeted = attack_all(models, samples=100, targeted=False)"
   ]
  },
  {
   "cell_type": "code",
   "execution_count": null,
   "metadata": {},
   "outputs": [],
   "source": [
    "targeted = attack_all(models, samples=10, pixels=[1], targeted=True)"
   ]
  },
  {
   "cell_type": "markdown",
   "metadata": {},
   "source": [
    "### Attack Statistics"
   ]
  },
  {
   "cell_type": "code",
   "execution_count": null,
   "metadata": {
    "scrolled": true
   },
   "outputs": [],
   "source": [
    "columns = ['model', 'pixels', 'image', 'true', 'predicted', 'success', 'cdiff', 'prior_probs', 'predicted_probs', 'attack_image']\n",
    "untargeted_results = pd.DataFrame(untargeted, columns=columns)\n",
    "targeted_results = pd.DataFrame(targeted, columns=columns)"
   ]
  },
  {
   "cell_type": "markdown",
   "metadata": {},
   "source": [
    "#### Untargeted"
   ]
  },
  {
   "cell_type": "code",
   "execution_count": null,
   "metadata": {},
   "outputs": [],
   "source": [
    "attack_stats(untargeted_results)"
   ]
  },
  {
   "cell_type": "markdown",
   "metadata": {},
   "source": [
    "#### Targeted"
   ]
  },
  {
   "cell_type": "code",
   "execution_count": null,
   "metadata": {},
   "outputs": [],
   "source": [
    "attack_stats(targeted_results)"
   ]
  },
  {
   "cell_type": "markdown",
   "metadata": {},
   "source": [
    "### Show some successful attacks"
   ]
  },
  {
   "cell_type": "markdown",
   "metadata": {},
   "source": [
    "Plot 9 random misclassified images"
   ]
  },
  {
   "cell_type": "code",
   "execution_count": null,
   "metadata": {},
   "outputs": [],
   "source": [
    "visualize_attack(untargeted_results, class_names)"
   ]
  },
  {
   "cell_type": "code",
   "execution_count": null,
   "metadata": {},
   "outputs": [],
   "source": [
    "visualize_attack(targeted_results, class_names)"
   ]
  },
  {
   "cell_type": "markdown",
   "metadata": {},
   "source": [
    "## Credits\n",
    " - Base code taken from https://github.com/09rohanchopra/cifar10\n",
    " - https://arxiv.org/pdf/1412.6806.pdf\n",
    " - https://github.com/fchollet/keras/blob/master/examples/cifar10_cnn.py\n",
    " - https://github.com/Hvass-Labs/TensorFlow-Tutorials/blob/master/06_CIFAR-10.ipynb\n",
    " - http://machinelearningmastery.com/object-recognition-convolutional-neural-networks-keras-deep-learning-library/\n",
    " - https://parneetk.github.io/blog/cnn-cifar10/\n",
    " - https://github.com/dnlcrl/deep-residual-networks-pyfunt/blob/master/docs/CIFAR-10%20Experiments.ipynb"
   ]
  }
 ],
 "metadata": {
  "kernelspec": {
   "display_name": "Python 3",
   "language": "python",
   "name": "python3"
  },
  "language_info": {
   "codemirror_mode": {
    "name": "ipython",
    "version": 3
   },
   "file_extension": ".py",
   "mimetype": "text/x-python",
   "name": "python",
   "nbconvert_exporter": "python",
   "pygments_lexer": "ipython3",
   "version": "3.6.3"
  }
 },
 "nbformat": 4,
 "nbformat_minor": 2
}
